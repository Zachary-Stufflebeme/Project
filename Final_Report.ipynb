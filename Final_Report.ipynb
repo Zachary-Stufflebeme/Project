{
 "cells": [
  {
   "cell_type": "markdown",
   "id": "ee0ea66e",
   "metadata": {},
   "source": [
    "# Telco Data Final Report   "
   ]
  },
  {
   "cell_type": "markdown",
   "id": "d0953323",
   "metadata": {},
   "source": [
    "# Zachary Stufflebeme"
   ]
  },
  {
   "cell_type": "code",
   "execution_count": 1,
   "id": "23552d0e",
   "metadata": {},
   "outputs": [],
   "source": [
    "#stats model and visualization imports\n",
    "import pandas as pd\n",
    "import numpy as np\n",
    "import warnings\n",
    "warnings.filterwarnings('ignore')\n",
    "from sklearn.tree import DecisionTreeClassifier,plot_tree,export_text\n",
    "from sklearn.metrics import confusion_matrix, classification_report, accuracy_score\n",
    "from sklearn.ensemble import RandomForestClassifier\n",
    "from sklearn.metrics import classification_report, confusion_matrix, ConfusionMatrixDisplay\n",
    "import matplotlib.pyplot as plt\n",
    "from sklearn.neighbors import KNeighborsClassifier\n",
    "from sklearn.linear_model import LogisticRegression\n",
    "import seaborn as sns\n",
    "from sklearn.preprocessing import MinMaxScaler\n",
    "from scipy import stats\n",
    "\n",
    "#custom imports\n",
    "\n",
    "from myProjectAquire import get_telco_data, get_old_telco, new_telco_data\n",
    "from myProjectPrepare import prep_telco, split_telco, feat_dist, feat_dist_churn"
   ]
  },
  {
   "cell_type": "markdown",
   "id": "d2b5edbf",
   "metadata": {},
   "source": [
    "# My Plan:"
   ]
  },
  {
   "cell_type": "markdown",
   "id": "c2dd7d2b",
   "metadata": {},
   "source": [
    "Aquire: acquire data through functions saved in my acquire.py along with my encrypted credentials.\n",
    "\n",
    "Prepare: Prepare and clean my data in such a way that I can plug it in to my classification models without causing error and with the prepared data still holding true to its original meaning.\n",
    "\n",
    "Explore: Ask statistical questions of my data and create visualizations of the results in order to improve comprehension by people reading the report without clarifications from my presentation.\n",
    "\n",
    "Model:Create models that try to accurately predict customer churn, Validate that all of your models are accurate not just on your train data but on outside data as well.\n",
    "\n",
    "Deliver: Put all of my findings together in a final report where I make things as easy to understand as possible.\n"
   ]
  },
  {
   "cell_type": "markdown",
   "id": "26e0a83c",
   "metadata": {},
   "source": [
    "# Project Summary:"
   ]
  },
  {
   "cell_type": "markdown",
   "id": "bdf5fb3d",
   "metadata": {},
   "source": [
    "In my project I was able to create 3 models That all performed similarly well and above the baseline. I used most features of the dataset except churn date, signup date and total_charges as that returned my highest accuracies. My Logistic Regression model was my best model as it was nearly 80% accurate in determining if a customer will churn. I also found that monthly charges and paperless billing are important features in predicting churn, and that tenure and using paperless billing are completely independent categories that can be left in without worry of redundancy, while total charges is just the product of two other features and is redundant and can be dropped. My main take aways from report would be my best working model and that I have Identified the most relevant feature , monthly_charges,  which we can manipulate going forward to try and reduce customer churn."
   ]
  },
  {
   "cell_type": "markdown",
   "id": "e6c6fff7",
   "metadata": {},
   "source": [
    "# Acquire Data:"
   ]
  },
  {
   "cell_type": "markdown",
   "id": "3fa015d0",
   "metadata": {},
   "source": [
    "Most of the work here has already been taken care of in my acquire.py"
   ]
  },
  {
   "cell_type": "code",
   "execution_count": 2,
   "id": "efdd24c0",
   "metadata": {},
   "outputs": [],
   "source": [
    "df = get_telco_data()"
   ]
  },
  {
   "cell_type": "code",
   "execution_count": null,
   "id": "018fa035",
   "metadata": {},
   "outputs": [],
   "source": []
  },
  {
   "cell_type": "code",
   "execution_count": 3,
   "id": "acb50a3d",
   "metadata": {},
   "outputs": [
    {
     "data": {
      "text/html": [
       "<div>\n",
       "<style scoped>\n",
       "    .dataframe tbody tr th:only-of-type {\n",
       "        vertical-align: middle;\n",
       "    }\n",
       "\n",
       "    .dataframe tbody tr th {\n",
       "        vertical-align: top;\n",
       "    }\n",
       "\n",
       "    .dataframe thead th {\n",
       "        text-align: right;\n",
       "    }\n",
       "</style>\n",
       "<table border=\"1\" class=\"dataframe\">\n",
       "  <thead>\n",
       "    <tr style=\"text-align: right;\">\n",
       "      <th></th>\n",
       "      <th>Unnamed: 0</th>\n",
       "      <th>customer_id</th>\n",
       "      <th>gender</th>\n",
       "      <th>senior_citizen</th>\n",
       "      <th>partner</th>\n",
       "      <th>dependents</th>\n",
       "      <th>tenure</th>\n",
       "      <th>phone_service</th>\n",
       "      <th>multiple_lines</th>\n",
       "      <th>internet_service_type_id</th>\n",
       "      <th>...</th>\n",
       "      <th>signup_date</th>\n",
       "      <th>phone_service.1</th>\n",
       "      <th>multiple_lines.1</th>\n",
       "      <th>internet_service_type_id.1</th>\n",
       "      <th>online_security.1</th>\n",
       "      <th>online_backup.1</th>\n",
       "      <th>device_protection.1</th>\n",
       "      <th>tech_support.1</th>\n",
       "      <th>streaming_tv.1</th>\n",
       "      <th>streaming_movies.1</th>\n",
       "    </tr>\n",
       "  </thead>\n",
       "  <tbody>\n",
       "    <tr>\n",
       "      <th>0</th>\n",
       "      <td>0</td>\n",
       "      <td>0002-ORFBO</td>\n",
       "      <td>Female</td>\n",
       "      <td>0</td>\n",
       "      <td>Yes</td>\n",
       "      <td>Yes</td>\n",
       "      <td>9</td>\n",
       "      <td>Yes</td>\n",
       "      <td>No</td>\n",
       "      <td>1</td>\n",
       "      <td>...</td>\n",
       "      <td>2021-04-21 18:07:34</td>\n",
       "      <td>Yes</td>\n",
       "      <td>No</td>\n",
       "      <td>1</td>\n",
       "      <td>No</td>\n",
       "      <td>Yes</td>\n",
       "      <td>No</td>\n",
       "      <td>Yes</td>\n",
       "      <td>Yes</td>\n",
       "      <td>No</td>\n",
       "    </tr>\n",
       "    <tr>\n",
       "      <th>1</th>\n",
       "      <td>1</td>\n",
       "      <td>0003-MKNFE</td>\n",
       "      <td>Male</td>\n",
       "      <td>0</td>\n",
       "      <td>No</td>\n",
       "      <td>No</td>\n",
       "      <td>9</td>\n",
       "      <td>Yes</td>\n",
       "      <td>Yes</td>\n",
       "      <td>1</td>\n",
       "      <td>...</td>\n",
       "      <td>2021-04-21 18:07:34</td>\n",
       "      <td>Yes</td>\n",
       "      <td>Yes</td>\n",
       "      <td>1</td>\n",
       "      <td>No</td>\n",
       "      <td>No</td>\n",
       "      <td>No</td>\n",
       "      <td>No</td>\n",
       "      <td>No</td>\n",
       "      <td>Yes</td>\n",
       "    </tr>\n",
       "    <tr>\n",
       "      <th>2</th>\n",
       "      <td>2</td>\n",
       "      <td>0004-TLHLJ</td>\n",
       "      <td>Male</td>\n",
       "      <td>0</td>\n",
       "      <td>No</td>\n",
       "      <td>No</td>\n",
       "      <td>4</td>\n",
       "      <td>Yes</td>\n",
       "      <td>No</td>\n",
       "      <td>2</td>\n",
       "      <td>...</td>\n",
       "      <td>2021-09-21 18:07:34</td>\n",
       "      <td>Yes</td>\n",
       "      <td>No</td>\n",
       "      <td>2</td>\n",
       "      <td>No</td>\n",
       "      <td>No</td>\n",
       "      <td>Yes</td>\n",
       "      <td>No</td>\n",
       "      <td>No</td>\n",
       "      <td>No</td>\n",
       "    </tr>\n",
       "    <tr>\n",
       "      <th>3</th>\n",
       "      <td>3</td>\n",
       "      <td>0011-IGKFF</td>\n",
       "      <td>Male</td>\n",
       "      <td>1</td>\n",
       "      <td>Yes</td>\n",
       "      <td>No</td>\n",
       "      <td>13</td>\n",
       "      <td>Yes</td>\n",
       "      <td>No</td>\n",
       "      <td>2</td>\n",
       "      <td>...</td>\n",
       "      <td>2020-12-21 18:07:34</td>\n",
       "      <td>Yes</td>\n",
       "      <td>No</td>\n",
       "      <td>2</td>\n",
       "      <td>No</td>\n",
       "      <td>Yes</td>\n",
       "      <td>Yes</td>\n",
       "      <td>No</td>\n",
       "      <td>Yes</td>\n",
       "      <td>Yes</td>\n",
       "    </tr>\n",
       "    <tr>\n",
       "      <th>4</th>\n",
       "      <td>4</td>\n",
       "      <td>0013-EXCHZ</td>\n",
       "      <td>Female</td>\n",
       "      <td>1</td>\n",
       "      <td>Yes</td>\n",
       "      <td>No</td>\n",
       "      <td>3</td>\n",
       "      <td>Yes</td>\n",
       "      <td>No</td>\n",
       "      <td>2</td>\n",
       "      <td>...</td>\n",
       "      <td>2021-10-21 18:07:34</td>\n",
       "      <td>Yes</td>\n",
       "      <td>No</td>\n",
       "      <td>2</td>\n",
       "      <td>No</td>\n",
       "      <td>No</td>\n",
       "      <td>No</td>\n",
       "      <td>Yes</td>\n",
       "      <td>Yes</td>\n",
       "      <td>No</td>\n",
       "    </tr>\n",
       "    <tr>\n",
       "      <th>...</th>\n",
       "      <td>...</td>\n",
       "      <td>...</td>\n",
       "      <td>...</td>\n",
       "      <td>...</td>\n",
       "      <td>...</td>\n",
       "      <td>...</td>\n",
       "      <td>...</td>\n",
       "      <td>...</td>\n",
       "      <td>...</td>\n",
       "      <td>...</td>\n",
       "      <td>...</td>\n",
       "      <td>...</td>\n",
       "      <td>...</td>\n",
       "      <td>...</td>\n",
       "      <td>...</td>\n",
       "      <td>...</td>\n",
       "      <td>...</td>\n",
       "      <td>...</td>\n",
       "      <td>...</td>\n",
       "      <td>...</td>\n",
       "      <td>...</td>\n",
       "    </tr>\n",
       "    <tr>\n",
       "      <th>7038</th>\n",
       "      <td>7038</td>\n",
       "      <td>9282-IZGQK</td>\n",
       "      <td>Female</td>\n",
       "      <td>0</td>\n",
       "      <td>No</td>\n",
       "      <td>No</td>\n",
       "      <td>1</td>\n",
       "      <td>Yes</td>\n",
       "      <td>Yes</td>\n",
       "      <td>2</td>\n",
       "      <td>...</td>\n",
       "      <td>2021-12-21 18:07:34</td>\n",
       "      <td>Yes</td>\n",
       "      <td>Yes</td>\n",
       "      <td>2</td>\n",
       "      <td>No</td>\n",
       "      <td>No</td>\n",
       "      <td>No</td>\n",
       "      <td>No</td>\n",
       "      <td>No</td>\n",
       "      <td>Yes</td>\n",
       "    </tr>\n",
       "    <tr>\n",
       "      <th>7039</th>\n",
       "      <td>7039</td>\n",
       "      <td>9462-MJUAW</td>\n",
       "      <td>Male</td>\n",
       "      <td>0</td>\n",
       "      <td>No</td>\n",
       "      <td>No</td>\n",
       "      <td>4</td>\n",
       "      <td>Yes</td>\n",
       "      <td>Yes</td>\n",
       "      <td>1</td>\n",
       "      <td>...</td>\n",
       "      <td>2021-09-21 18:07:34</td>\n",
       "      <td>Yes</td>\n",
       "      <td>Yes</td>\n",
       "      <td>1</td>\n",
       "      <td>No</td>\n",
       "      <td>No</td>\n",
       "      <td>No</td>\n",
       "      <td>No</td>\n",
       "      <td>No</td>\n",
       "      <td>No</td>\n",
       "    </tr>\n",
       "    <tr>\n",
       "      <th>7040</th>\n",
       "      <td>7040</td>\n",
       "      <td>9705-ZJBCG</td>\n",
       "      <td>Female</td>\n",
       "      <td>0</td>\n",
       "      <td>Yes</td>\n",
       "      <td>Yes</td>\n",
       "      <td>13</td>\n",
       "      <td>Yes</td>\n",
       "      <td>No</td>\n",
       "      <td>1</td>\n",
       "      <td>...</td>\n",
       "      <td>2020-12-21 18:07:34</td>\n",
       "      <td>Yes</td>\n",
       "      <td>No</td>\n",
       "      <td>1</td>\n",
       "      <td>Yes</td>\n",
       "      <td>No</td>\n",
       "      <td>No</td>\n",
       "      <td>Yes</td>\n",
       "      <td>No</td>\n",
       "      <td>No</td>\n",
       "    </tr>\n",
       "    <tr>\n",
       "      <th>7041</th>\n",
       "      <td>7041</td>\n",
       "      <td>9777-IQHWP</td>\n",
       "      <td>Male</td>\n",
       "      <td>0</td>\n",
       "      <td>Yes</td>\n",
       "      <td>Yes</td>\n",
       "      <td>64</td>\n",
       "      <td>Yes</td>\n",
       "      <td>Yes</td>\n",
       "      <td>2</td>\n",
       "      <td>...</td>\n",
       "      <td>2016-09-21 18:07:34</td>\n",
       "      <td>Yes</td>\n",
       "      <td>Yes</td>\n",
       "      <td>2</td>\n",
       "      <td>Yes</td>\n",
       "      <td>No</td>\n",
       "      <td>Yes</td>\n",
       "      <td>No</td>\n",
       "      <td>No</td>\n",
       "      <td>Yes</td>\n",
       "    </tr>\n",
       "    <tr>\n",
       "      <th>7042</th>\n",
       "      <td>7042</td>\n",
       "      <td>9809-IMGCQ</td>\n",
       "      <td>Male</td>\n",
       "      <td>1</td>\n",
       "      <td>No</td>\n",
       "      <td>No</td>\n",
       "      <td>22</td>\n",
       "      <td>Yes</td>\n",
       "      <td>Yes</td>\n",
       "      <td>2</td>\n",
       "      <td>...</td>\n",
       "      <td>2020-03-21 18:07:34</td>\n",
       "      <td>Yes</td>\n",
       "      <td>Yes</td>\n",
       "      <td>2</td>\n",
       "      <td>No</td>\n",
       "      <td>No</td>\n",
       "      <td>No</td>\n",
       "      <td>No</td>\n",
       "      <td>Yes</td>\n",
       "      <td>Yes</td>\n",
       "    </tr>\n",
       "  </tbody>\n",
       "</table>\n",
       "<p>7043 rows × 42 columns</p>\n",
       "</div>"
      ],
      "text/plain": [
       "      Unnamed: 0 customer_id  gender  senior_citizen partner dependents  \\\n",
       "0              0  0002-ORFBO  Female               0     Yes        Yes   \n",
       "1              1  0003-MKNFE    Male               0      No         No   \n",
       "2              2  0004-TLHLJ    Male               0      No         No   \n",
       "3              3  0011-IGKFF    Male               1     Yes         No   \n",
       "4              4  0013-EXCHZ  Female               1     Yes         No   \n",
       "...          ...         ...     ...             ...     ...        ...   \n",
       "7038        7038  9282-IZGQK  Female               0      No         No   \n",
       "7039        7039  9462-MJUAW    Male               0      No         No   \n",
       "7040        7040  9705-ZJBCG  Female               0     Yes        Yes   \n",
       "7041        7041  9777-IQHWP    Male               0     Yes        Yes   \n",
       "7042        7042  9809-IMGCQ    Male               1      No         No   \n",
       "\n",
       "      tenure phone_service multiple_lines  internet_service_type_id  ...  \\\n",
       "0          9           Yes             No                         1  ...   \n",
       "1          9           Yes            Yes                         1  ...   \n",
       "2          4           Yes             No                         2  ...   \n",
       "3         13           Yes             No                         2  ...   \n",
       "4          3           Yes             No                         2  ...   \n",
       "...      ...           ...            ...                       ...  ...   \n",
       "7038       1           Yes            Yes                         2  ...   \n",
       "7039       4           Yes            Yes                         1  ...   \n",
       "7040      13           Yes             No                         1  ...   \n",
       "7041      64           Yes            Yes                         2  ...   \n",
       "7042      22           Yes            Yes                         2  ...   \n",
       "\n",
       "              signup_date phone_service.1 multiple_lines.1  \\\n",
       "0     2021-04-21 18:07:34             Yes               No   \n",
       "1     2021-04-21 18:07:34             Yes              Yes   \n",
       "2     2021-09-21 18:07:34             Yes               No   \n",
       "3     2020-12-21 18:07:34             Yes               No   \n",
       "4     2021-10-21 18:07:34             Yes               No   \n",
       "...                   ...             ...              ...   \n",
       "7038  2021-12-21 18:07:34             Yes              Yes   \n",
       "7039  2021-09-21 18:07:34             Yes              Yes   \n",
       "7040  2020-12-21 18:07:34             Yes               No   \n",
       "7041  2016-09-21 18:07:34             Yes              Yes   \n",
       "7042  2020-03-21 18:07:34             Yes              Yes   \n",
       "\n",
       "     internet_service_type_id.1 online_security.1 online_backup.1  \\\n",
       "0                             1                No             Yes   \n",
       "1                             1                No              No   \n",
       "2                             2                No              No   \n",
       "3                             2                No             Yes   \n",
       "4                             2                No              No   \n",
       "...                         ...               ...             ...   \n",
       "7038                          2                No              No   \n",
       "7039                          1                No              No   \n",
       "7040                          1               Yes              No   \n",
       "7041                          2               Yes              No   \n",
       "7042                          2                No              No   \n",
       "\n",
       "      device_protection.1 tech_support.1  streaming_tv.1  streaming_movies.1  \n",
       "0                      No            Yes             Yes                  No  \n",
       "1                      No             No              No                 Yes  \n",
       "2                     Yes             No              No                  No  \n",
       "3                     Yes             No             Yes                 Yes  \n",
       "4                      No            Yes             Yes                  No  \n",
       "...                   ...            ...             ...                 ...  \n",
       "7038                   No             No              No                 Yes  \n",
       "7039                   No             No              No                  No  \n",
       "7040                   No            Yes              No                  No  \n",
       "7041                  Yes             No              No                 Yes  \n",
       "7042                   No             No             Yes                 Yes  \n",
       "\n",
       "[7043 rows x 42 columns]"
      ]
     },
     "execution_count": 3,
     "metadata": {},
     "output_type": "execute_result"
    }
   ],
   "source": [
    "df"
   ]
  },
  {
   "cell_type": "code",
   "execution_count": null,
   "id": "a34ef6d7",
   "metadata": {},
   "outputs": [],
   "source": []
  },
  {
   "cell_type": "markdown",
   "id": "b8499403",
   "metadata": {},
   "source": [
    "This is the way the dataframe is formatted before I make any changes. I retrieved the data from our SQL database using my encrypted credentials from my env file. The data is not formatted very well for me to use our classification models and I will have to make a lot of changes."
   ]
  },
  {
   "cell_type": "markdown",
   "id": "78eca70b",
   "metadata": {},
   "source": [
    "# Prepare Data:"
   ]
  },
  {
   "cell_type": "code",
   "execution_count": 4,
   "id": "820a260c",
   "metadata": {},
   "outputs": [],
   "source": [
    "# Here I am running the previous df through my prepare functions i created in my prepare.py, as well as an \n",
    "#             additional decision I made to delete the 'unnamed: 0' column\n",
    "newdf = prep_telco(df)\n",
    "newdf = newdf.drop(columns = 'Unnamed: 0')\n",
    "userid = pd.DataFrame()"
   ]
  },
  {
   "cell_type": "code",
   "execution_count": 5,
   "id": "1d54f3b4",
   "metadata": {},
   "outputs": [
    {
     "data": {
      "text/html": [
       "<div>\n",
       "<style scoped>\n",
       "    .dataframe tbody tr th:only-of-type {\n",
       "        vertical-align: middle;\n",
       "    }\n",
       "\n",
       "    .dataframe tbody tr th {\n",
       "        vertical-align: top;\n",
       "    }\n",
       "\n",
       "    .dataframe thead th {\n",
       "        text-align: right;\n",
       "    }\n",
       "</style>\n",
       "<table border=\"1\" class=\"dataframe\">\n",
       "  <thead>\n",
       "    <tr style=\"text-align: right;\">\n",
       "      <th></th>\n",
       "      <th>customer_id</th>\n",
       "      <th>senior_citizen</th>\n",
       "      <th>tenure</th>\n",
       "      <th>internet_service_type_id</th>\n",
       "      <th>contract_type_id</th>\n",
       "      <th>payment_type_id</th>\n",
       "      <th>monthly_charges</th>\n",
       "      <th>is_female</th>\n",
       "      <th>has_partner</th>\n",
       "      <th>has_dependents</th>\n",
       "      <th>has_phone_service</th>\n",
       "      <th>uses_paperless_billing</th>\n",
       "      <th>did_churn</th>\n",
       "      <th>has_mult_lines</th>\n",
       "      <th>has_online_security</th>\n",
       "      <th>has_online_backup</th>\n",
       "      <th>has_device_protection</th>\n",
       "      <th>has_tech_support</th>\n",
       "      <th>can_stream_tv</th>\n",
       "      <th>can_stream_movie</th>\n",
       "    </tr>\n",
       "  </thead>\n",
       "  <tbody>\n",
       "    <tr>\n",
       "      <th>0</th>\n",
       "      <td>0002-ORFBO</td>\n",
       "      <td>0</td>\n",
       "      <td>9</td>\n",
       "      <td>1</td>\n",
       "      <td>2</td>\n",
       "      <td>2</td>\n",
       "      <td>0.471144</td>\n",
       "      <td>1</td>\n",
       "      <td>1</td>\n",
       "      <td>1</td>\n",
       "      <td>1</td>\n",
       "      <td>1</td>\n",
       "      <td>0</td>\n",
       "      <td>0.0</td>\n",
       "      <td>0.0</td>\n",
       "      <td>1.0</td>\n",
       "      <td>0.0</td>\n",
       "      <td>1.0</td>\n",
       "      <td>1.0</td>\n",
       "      <td>0.0</td>\n",
       "    </tr>\n",
       "    <tr>\n",
       "      <th>1</th>\n",
       "      <td>0003-MKNFE</td>\n",
       "      <td>0</td>\n",
       "      <td>9</td>\n",
       "      <td>1</td>\n",
       "      <td>1</td>\n",
       "      <td>2</td>\n",
       "      <td>0.414428</td>\n",
       "      <td>0</td>\n",
       "      <td>0</td>\n",
       "      <td>0</td>\n",
       "      <td>1</td>\n",
       "      <td>0</td>\n",
       "      <td>0</td>\n",
       "      <td>1.0</td>\n",
       "      <td>0.0</td>\n",
       "      <td>0.0</td>\n",
       "      <td>0.0</td>\n",
       "      <td>0.0</td>\n",
       "      <td>0.0</td>\n",
       "      <td>1.0</td>\n",
       "    </tr>\n",
       "    <tr>\n",
       "      <th>2</th>\n",
       "      <td>0004-TLHLJ</td>\n",
       "      <td>0</td>\n",
       "      <td>4</td>\n",
       "      <td>2</td>\n",
       "      <td>1</td>\n",
       "      <td>1</td>\n",
       "      <td>0.553731</td>\n",
       "      <td>0</td>\n",
       "      <td>0</td>\n",
       "      <td>0</td>\n",
       "      <td>1</td>\n",
       "      <td>1</td>\n",
       "      <td>1</td>\n",
       "      <td>0.0</td>\n",
       "      <td>0.0</td>\n",
       "      <td>0.0</td>\n",
       "      <td>1.0</td>\n",
       "      <td>0.0</td>\n",
       "      <td>0.0</td>\n",
       "      <td>0.0</td>\n",
       "    </tr>\n",
       "    <tr>\n",
       "      <th>3</th>\n",
       "      <td>0011-IGKFF</td>\n",
       "      <td>1</td>\n",
       "      <td>13</td>\n",
       "      <td>2</td>\n",
       "      <td>1</td>\n",
       "      <td>1</td>\n",
       "      <td>0.793532</td>\n",
       "      <td>0</td>\n",
       "      <td>1</td>\n",
       "      <td>0</td>\n",
       "      <td>1</td>\n",
       "      <td>1</td>\n",
       "      <td>1</td>\n",
       "      <td>0.0</td>\n",
       "      <td>0.0</td>\n",
       "      <td>1.0</td>\n",
       "      <td>1.0</td>\n",
       "      <td>0.0</td>\n",
       "      <td>1.0</td>\n",
       "      <td>1.0</td>\n",
       "    </tr>\n",
       "    <tr>\n",
       "      <th>4</th>\n",
       "      <td>0013-EXCHZ</td>\n",
       "      <td>1</td>\n",
       "      <td>3</td>\n",
       "      <td>2</td>\n",
       "      <td>1</td>\n",
       "      <td>2</td>\n",
       "      <td>0.653234</td>\n",
       "      <td>1</td>\n",
       "      <td>1</td>\n",
       "      <td>0</td>\n",
       "      <td>1</td>\n",
       "      <td>1</td>\n",
       "      <td>1</td>\n",
       "      <td>0.0</td>\n",
       "      <td>0.0</td>\n",
       "      <td>0.0</td>\n",
       "      <td>0.0</td>\n",
       "      <td>1.0</td>\n",
       "      <td>1.0</td>\n",
       "      <td>0.0</td>\n",
       "    </tr>\n",
       "    <tr>\n",
       "      <th>...</th>\n",
       "      <td>...</td>\n",
       "      <td>...</td>\n",
       "      <td>...</td>\n",
       "      <td>...</td>\n",
       "      <td>...</td>\n",
       "      <td>...</td>\n",
       "      <td>...</td>\n",
       "      <td>...</td>\n",
       "      <td>...</td>\n",
       "      <td>...</td>\n",
       "      <td>...</td>\n",
       "      <td>...</td>\n",
       "      <td>...</td>\n",
       "      <td>...</td>\n",
       "      <td>...</td>\n",
       "      <td>...</td>\n",
       "      <td>...</td>\n",
       "      <td>...</td>\n",
       "      <td>...</td>\n",
       "      <td>...</td>\n",
       "    </tr>\n",
       "    <tr>\n",
       "      <th>7038</th>\n",
       "      <td>9282-IZGQK</td>\n",
       "      <td>0</td>\n",
       "      <td>1</td>\n",
       "      <td>2</td>\n",
       "      <td>1</td>\n",
       "      <td>1</td>\n",
       "      <td>0.664179</td>\n",
       "      <td>1</td>\n",
       "      <td>0</td>\n",
       "      <td>0</td>\n",
       "      <td>1</td>\n",
       "      <td>1</td>\n",
       "      <td>1</td>\n",
       "      <td>1.0</td>\n",
       "      <td>0.0</td>\n",
       "      <td>0.0</td>\n",
       "      <td>0.0</td>\n",
       "      <td>0.0</td>\n",
       "      <td>0.0</td>\n",
       "      <td>1.0</td>\n",
       "    </tr>\n",
       "    <tr>\n",
       "      <th>7039</th>\n",
       "      <td>9462-MJUAW</td>\n",
       "      <td>0</td>\n",
       "      <td>4</td>\n",
       "      <td>1</td>\n",
       "      <td>1</td>\n",
       "      <td>2</td>\n",
       "      <td>0.319900</td>\n",
       "      <td>0</td>\n",
       "      <td>0</td>\n",
       "      <td>0</td>\n",
       "      <td>1</td>\n",
       "      <td>0</td>\n",
       "      <td>1</td>\n",
       "      <td>1.0</td>\n",
       "      <td>0.0</td>\n",
       "      <td>0.0</td>\n",
       "      <td>0.0</td>\n",
       "      <td>0.0</td>\n",
       "      <td>0.0</td>\n",
       "      <td>0.0</td>\n",
       "    </tr>\n",
       "    <tr>\n",
       "      <th>7040</th>\n",
       "      <td>9705-ZJBCG</td>\n",
       "      <td>0</td>\n",
       "      <td>13</td>\n",
       "      <td>1</td>\n",
       "      <td>2</td>\n",
       "      <td>3</td>\n",
       "      <td>0.357214</td>\n",
       "      <td>1</td>\n",
       "      <td>1</td>\n",
       "      <td>1</td>\n",
       "      <td>1</td>\n",
       "      <td>0</td>\n",
       "      <td>0</td>\n",
       "      <td>0.0</td>\n",
       "      <td>1.0</td>\n",
       "      <td>0.0</td>\n",
       "      <td>0.0</td>\n",
       "      <td>1.0</td>\n",
       "      <td>0.0</td>\n",
       "      <td>0.0</td>\n",
       "    </tr>\n",
       "    <tr>\n",
       "      <th>7041</th>\n",
       "      <td>9777-IQHWP</td>\n",
       "      <td>0</td>\n",
       "      <td>64</td>\n",
       "      <td>2</td>\n",
       "      <td>3</td>\n",
       "      <td>3</td>\n",
       "      <td>0.747761</td>\n",
       "      <td>0</td>\n",
       "      <td>1</td>\n",
       "      <td>1</td>\n",
       "      <td>1</td>\n",
       "      <td>0</td>\n",
       "      <td>0</td>\n",
       "      <td>1.0</td>\n",
       "      <td>1.0</td>\n",
       "      <td>0.0</td>\n",
       "      <td>1.0</td>\n",
       "      <td>0.0</td>\n",
       "      <td>0.0</td>\n",
       "      <td>1.0</td>\n",
       "    </tr>\n",
       "    <tr>\n",
       "      <th>7042</th>\n",
       "      <td>9809-IMGCQ</td>\n",
       "      <td>1</td>\n",
       "      <td>22</td>\n",
       "      <td>2</td>\n",
       "      <td>1</td>\n",
       "      <td>1</td>\n",
       "      <td>0.780597</td>\n",
       "      <td>0</td>\n",
       "      <td>0</td>\n",
       "      <td>0</td>\n",
       "      <td>1</td>\n",
       "      <td>1</td>\n",
       "      <td>1</td>\n",
       "      <td>1.0</td>\n",
       "      <td>0.0</td>\n",
       "      <td>0.0</td>\n",
       "      <td>0.0</td>\n",
       "      <td>0.0</td>\n",
       "      <td>1.0</td>\n",
       "      <td>1.0</td>\n",
       "    </tr>\n",
       "  </tbody>\n",
       "</table>\n",
       "<p>7043 rows × 20 columns</p>\n",
       "</div>"
      ],
      "text/plain": [
       "     customer_id  senior_citizen  tenure  internet_service_type_id  \\\n",
       "0     0002-ORFBO               0       9                         1   \n",
       "1     0003-MKNFE               0       9                         1   \n",
       "2     0004-TLHLJ               0       4                         2   \n",
       "3     0011-IGKFF               1      13                         2   \n",
       "4     0013-EXCHZ               1       3                         2   \n",
       "...          ...             ...     ...                       ...   \n",
       "7038  9282-IZGQK               0       1                         2   \n",
       "7039  9462-MJUAW               0       4                         1   \n",
       "7040  9705-ZJBCG               0      13                         1   \n",
       "7041  9777-IQHWP               0      64                         2   \n",
       "7042  9809-IMGCQ               1      22                         2   \n",
       "\n",
       "      contract_type_id  payment_type_id  monthly_charges  is_female  \\\n",
       "0                    2                2         0.471144          1   \n",
       "1                    1                2         0.414428          0   \n",
       "2                    1                1         0.553731          0   \n",
       "3                    1                1         0.793532          0   \n",
       "4                    1                2         0.653234          1   \n",
       "...                ...              ...              ...        ...   \n",
       "7038                 1                1         0.664179          1   \n",
       "7039                 1                2         0.319900          0   \n",
       "7040                 2                3         0.357214          1   \n",
       "7041                 3                3         0.747761          0   \n",
       "7042                 1                1         0.780597          0   \n",
       "\n",
       "      has_partner  has_dependents  has_phone_service  uses_paperless_billing  \\\n",
       "0               1               1                  1                       1   \n",
       "1               0               0                  1                       0   \n",
       "2               0               0                  1                       1   \n",
       "3               1               0                  1                       1   \n",
       "4               1               0                  1                       1   \n",
       "...           ...             ...                ...                     ...   \n",
       "7038            0               0                  1                       1   \n",
       "7039            0               0                  1                       0   \n",
       "7040            1               1                  1                       0   \n",
       "7041            1               1                  1                       0   \n",
       "7042            0               0                  1                       1   \n",
       "\n",
       "      did_churn  has_mult_lines  has_online_security  has_online_backup  \\\n",
       "0             0             0.0                  0.0                1.0   \n",
       "1             0             1.0                  0.0                0.0   \n",
       "2             1             0.0                  0.0                0.0   \n",
       "3             1             0.0                  0.0                1.0   \n",
       "4             1             0.0                  0.0                0.0   \n",
       "...         ...             ...                  ...                ...   \n",
       "7038          1             1.0                  0.0                0.0   \n",
       "7039          1             1.0                  0.0                0.0   \n",
       "7040          0             0.0                  1.0                0.0   \n",
       "7041          0             1.0                  1.0                0.0   \n",
       "7042          1             1.0                  0.0                0.0   \n",
       "\n",
       "      has_device_protection  has_tech_support  can_stream_tv  can_stream_movie  \n",
       "0                       0.0               1.0            1.0               0.0  \n",
       "1                       0.0               0.0            0.0               1.0  \n",
       "2                       1.0               0.0            0.0               0.0  \n",
       "3                       1.0               0.0            1.0               1.0  \n",
       "4                       0.0               1.0            1.0               0.0  \n",
       "...                     ...               ...            ...               ...  \n",
       "7038                    0.0               0.0            0.0               1.0  \n",
       "7039                    0.0               0.0            0.0               0.0  \n",
       "7040                    0.0               1.0            0.0               0.0  \n",
       "7041                    1.0               0.0            0.0               1.0  \n",
       "7042                    0.0               0.0            1.0               1.0  \n",
       "\n",
       "[7043 rows x 20 columns]"
      ]
     },
     "execution_count": 5,
     "metadata": {},
     "output_type": "execute_result"
    }
   ],
   "source": [
    "newdf\n"
   ]
  },
  {
   "cell_type": "markdown",
   "id": "ec94d2bc",
   "metadata": {},
   "source": [
    "As you can see I have made a lot of changes to the data within my prepare.py in order for it to be formatted in a way that works with the different ML models I will be creating."
   ]
  },
  {
   "cell_type": "markdown",
   "id": "30ae11eb",
   "metadata": {},
   "source": [
    "# behind the scenes:"
   ]
  },
  {
   "cell_type": "markdown",
   "id": "c4e44e60",
   "metadata": {},
   "source": [
    "Preperation is where I found myself spending most of my time as the telco data was not exactly perfect for model creation. I will try and briefly summarize what I did: "
   ]
  },
  {
   "cell_type": "markdown",
   "id": "3e96eb84",
   "metadata": {},
   "source": [
    "- deleted all columns filled with duplicate values to get rid of unnecessary features.\n",
    "- made new encoded columns all of my categorical variables to use them in my classification models.\n",
    "- After doing that I had to drop all of the old columns I just encoded in new columns, getting rid of all categorical data.\n",
    "- I also decided to get rid of total charges as it was just a product of two other features and wasnt really adding anything unique to my data. \n",
    "- All that was laeft to do from there was to fix muddy data such as nulls that were appearing in certain places which was linked to weather or not they had internet service. It seemed appropriate to set all of the nulls to 0 so thats what I chose to do.\n"
   ]
  },
  {
   "cell_type": "code",
   "execution_count": 6,
   "id": "69554bcd",
   "metadata": {},
   "outputs": [
    {
     "data": {
      "image/png": "[encoded data removed]",
      "text/plain": [
       "<Figure size 432x288 with 1 Axes>"
      ]
     },
     "metadata": {
      "needs_background": "light"
     },
     "output_type": "display_data"
    },
    {
     "data": {
      "image/png": "[encoded data removed]",
      "text/plain": [
       "<Figure size 432x288 with 1 Axes>"
      ]
     },
     "metadata": {
      "needs_background": "light"
     },
     "output_type": "display_data"
    },
    {
     "data": {
      "image/png": "[encoded data removed]",
      "text/plain": [
       "<Figure size 432x288 with 1 Axes>"
      ]
     },
     "metadata": {
      "needs_background": "light"
     },
     "output_type": "display_data"
    },
    {
     "data": {
      "image/png": "[encoded data removed]",
      "text/plain": [
       "<Figure size 432x288 with 1 Axes>"
      ]
     },
     "metadata": {
      "needs_background": "light"
     },
     "output_type": "display_data"
    },
    {
     "data": {
      "image/png": "[encoded data removed]",
      "text/plain": [
       "<Figure size 432x288 with 1 Axes>"
      ]
     },
     "metadata": {
      "needs_background": "light"
     },
     "output_type": "display_data"
    },
    {
     "data": {
      "image/png": "[encoded data removed]",
      "text/plain": [
       "<Figure size 432x288 with 1 Axes>"
      ]
     },
     "metadata": {
      "needs_background": "light"
     },
     "output_type": "display_data"
    },
    {
     "data": {
      "image/png": "[encoded data removed]",
      "text/plain": [
       "<Figure size 432x288 with 1 Axes>"
      ]
     },
     "metadata": {
      "needs_background": "light"
     },
     "output_type": "display_data"
    },
    {
     "data": {
      "image/png": "[encoded data removed]",
      "text/plain": [
       "<Figure size 432x288 with 1 Axes>"
      ]
     },
     "metadata": {
      "needs_background": "light"
     },
     "output_type": "display_data"
    },
    {
     "data": {
      "image/png": "[encoded data removed]",
      "text/plain": [
       "<Figure size 432x288 with 1 Axes>"
      ]
     },
     "metadata": {
      "needs_background": "light"
     },
     "output_type": "display_data"
    },
    {
     "data": {
      "image/png": "[encoded data removed]",
      "text/plain": [
       "<Figure size 432x288 with 1 Axes>"
      ]
     },
     "metadata": {
      "needs_background": "light"
     },
     "output_type": "display_data"
    },
    {
     "data": {
      "image/png": "[encoded data removed]",
      "text/plain": [
       "<Figure size 432x288 with 1 Axes>"
      ]
     },
     "metadata": {
      "needs_background": "light"
     },
     "output_type": "display_data"
    },
    {
     "data": {
      "image/png": "[encoded data removed]",
      "text/plain": [
       "<Figure size 432x288 with 1 Axes>"
      ]
     },
     "metadata": {
      "needs_background": "light"
     },
     "output_type": "display_data"
    },
    {
     "data": {
      "image/png": "[encoded data removed]",
      "text/plain": [
       "<Figure size 432x288 with 1 Axes>"
      ]
     },
     "metadata": {
      "needs_background": "light"
     },
     "output_type": "display_data"
    },
    {
     "data": {
      "image/png": "[encoded data removed]",
      "text/plain": [
       "<Figure size 432x288 with 1 Axes>"
      ]
     },
     "metadata": {
      "needs_background": "light"
     },
     "output_type": "display_data"
    },
    {
     "data": {
      "image/png": "[encoded data removed]",
      "text/plain": [
       "<Figure size 432x288 with 1 Axes>"
      ]
     },
     "metadata": {
      "needs_background": "light"
     },
     "output_type": "display_data"
    },
    {
     "data": {
      "image/png": "[encoded data removed]",
      "text/plain": [
       "<Figure size 432x288 with 1 Axes>"
      ]
     },
     "metadata": {
      "needs_background": "light"
     },
     "output_type": "display_data"
    },
    {
     "data": {
      "image/png": "[encoded data removed]",
      "text/plain": [
       "<Figure size 432x288 with 1 Axes>"
      ]
     },
     "metadata": {
      "needs_background": "light"
     },
     "output_type": "display_data"
    },
    {
     "data": {
      "image/png": "[encoded data removed]",
      "text/plain": [
       "<Figure size 432x288 with 1 Axes>"
      ]
     },
     "metadata": {
      "needs_background": "light"
     },
     "output_type": "display_data"
    },
    {
     "data": {
      "image/png": "[encoded data removed]",
      "text/plain": [
       "<Figure size 432x288 with 1 Axes>"
      ]
     },
     "metadata": {
      "needs_background": "light"
     },
     "output_type": "display_data"
    }
   ],
   "source": [
    "feat_dist(newdf) "
   ]
  },
  {
   "cell_type": "markdown",
   "id": "2e6b5d48",
   "metadata": {},
   "source": [
    "Here I have provided several visuals that demonstrate the distributions of each feature. The most potentially valuable looking distribution would be the monthly charges as it seems to indicate that it would be a relevant feature.\n"
   ]
  },
  {
   "cell_type": "code",
   "execution_count": 7,
   "id": "9d6b04fc",
   "metadata": {},
   "outputs": [],
   "source": [
    "#calling my split data function from my prepare in order to have training, validating, and testing portions of my data.\n",
    "train, validate, test = split_telco(newdf)"
   ]
  },
  {
   "cell_type": "code",
   "execution_count": 8,
   "id": "2195a30a",
   "metadata": {},
   "outputs": [],
   "source": [
    "user_id = pd.DataFrame()\n",
    "user_id['user_id'] = test.customer_id\n",
    "train = train.drop(columns = 'customer_id')\n",
    "validate = validate.drop(columns = 'customer_id')\n",
    "test = test.drop(columns = 'customer_id')\n",
    "x_train = train.drop(columns = 'did_churn')\n",
    "y_train = train.did_churn\n",
    "x_validate = validate.drop(columns ='did_churn')\n",
    "y_validate = validate.did_churn\n",
    "x_test = test.drop(columns = 'did_churn')\n",
    "y_test = test.did_churn\n"
   ]
  },
  {
   "cell_type": "code",
   "execution_count": 9,
   "id": "6bc3cd3c",
   "metadata": {},
   "outputs": [
    {
     "data": {
      "image/png": "[encoded data removed]",
      "text/plain": [
       "<Figure size 432x288 with 1 Axes>"
      ]
     },
     "metadata": {
      "needs_background": "light"
     },
     "output_type": "display_data"
    },
    {
     "data": {
      "image/png": "[encoded data removed]",
      "text/plain": [
       "<Figure size 432x288 with 1 Axes>"
      ]
     },
     "metadata": {
      "needs_background": "light"
     },
     "output_type": "display_data"
    },
    {
     "data": {
      "image/png": "[encoded data removed]",
      "text/plain": [
       "<Figure size 432x288 with 1 Axes>"
      ]
     },
     "metadata": {
      "needs_background": "light"
     },
     "output_type": "display_data"
    },
    {
     "data": {
      "image/png": "[encoded data removed]",
      "text/plain": [
       "<Figure size 432x288 with 1 Axes>"
      ]
     },
     "metadata": {
      "needs_background": "light"
     },
     "output_type": "display_data"
    },
    {
     "data": {
      "image/png": "[encoded data removed]",
      "text/plain": [
       "<Figure size 432x288 with 1 Axes>"
      ]
     },
     "metadata": {
      "needs_background": "light"
     },
     "output_type": "display_data"
    },
    {
     "data": {
      "image/png": "[encoded data removed]",
      "text/plain": [
       "<Figure size 432x288 with 1 Axes>"
      ]
     },
     "metadata": {
      "needs_background": "light"
     },
     "output_type": "display_data"
    },
    {
     "data": {
      "image/png": "[encoded data removed]",
      "text/plain": [
       "<Figure size 432x288 with 1 Axes>"
      ]
     },
     "metadata": {
      "needs_background": "light"
     },
     "output_type": "display_data"
    },
    {
     "data": {
      "image/png": "[encoded data removed]",
      "text/plain": [
       "<Figure size 432x288 with 1 Axes>"
      ]
     },
     "metadata": {
      "needs_background": "light"
     },
     "output_type": "display_data"
    },
    {
     "data": {
      "image/png": "[encoded data removed]",
      "text/plain": [
       "<Figure size 432x288 with 1 Axes>"
      ]
     },
     "metadata": {
      "needs_background": "light"
     },
     "output_type": "display_data"
    },
    {
     "data": {
      "image/png": "[encoded data removed]",
      "text/plain": [
       "<Figure size 432x288 with 1 Axes>"
      ]
     },
     "metadata": {
      "needs_background": "light"
     },
     "output_type": "display_data"
    },
    {
     "data": {
      "image/png": "[encoded data removed]",
      "text/plain": [
       "<Figure size 432x288 with 1 Axes>"
      ]
     },
     "metadata": {
      "needs_background": "light"
     },
     "output_type": "display_data"
    },
    {
     "data": {
      "image/png": "[encoded data removed]",
      "text/plain": [
       "<Figure size 432x288 with 1 Axes>"
      ]
     },
     "metadata": {
      "needs_background": "light"
     },
     "output_type": "display_data"
    },
    {
     "data": {
      "image/png": "[encoded data removed]",
      "text/plain": [
       "<Figure size 432x288 with 1 Axes>"
      ]
     },
     "metadata": {
      "needs_background": "light"
     },
     "output_type": "display_data"
    },
    {
     "data": {
      "image/png": "[encoded data removed]",
      "text/plain": [
       "<Figure size 432x288 with 1 Axes>"
      ]
     },
     "metadata": {
      "needs_background": "light"
     },
     "output_type": "display_data"
    },
    {
     "data": {
      "image/png": "[encoded data removed]",
      "text/plain": [
       "<Figure size 432x288 with 1 Axes>"
      ]
     },
     "metadata": {
      "needs_background": "light"
     },
     "output_type": "display_data"
    },
    {
     "data": {
      "image/png": "[encoded data removed]",
      "text/plain": [
       "<Figure size 432x288 with 1 Axes>"
      ]
     },
     "metadata": {
      "needs_background": "light"
     },
     "output_type": "display_data"
    },
    {
     "data": {
      "image/png": "[encoded data removed]",
      "text/plain": [
       "<Figure size 432x288 with 1 Axes>"
      ]
     },
     "metadata": {
      "needs_background": "light"
     },
     "output_type": "display_data"
    },
    {
     "data": {
      "image/png": "[encoded data removed]",
      "text/plain": [
       "<Figure size 432x288 with 1 Axes>"
      ]
     },
     "metadata": {
      "needs_background": "light"
     },
     "output_type": "display_data"
    },
    {
     "data": {
      "image/png": "[encoded data removed]",
      "text/plain": [
       "<Figure size 432x288 with 1 Axes>"
      ]
     },
     "metadata": {
      "needs_background": "light"
     },
     "output_type": "display_data"
    }
   ],
   "source": [
    "feat_dist_churn(train)"
   ]
  },
  {
   "cell_type": "markdown",
   "id": "78959790",
   "metadata": {},
   "source": [
    "here Ive created the same distributions but now I have also split the distributions by did and did not churn to provide a little bit more insight on the features relevance to churn."
   ]
  },
  {
   "cell_type": "markdown",
   "id": "7b07055a",
   "metadata": {},
   "source": [
    "-I made new encoded columns all of my categorical variables so that I could use them in my classification models.\n",
    "\n",
    "\n"
   ]
  },
  {
   "cell_type": "markdown",
   "id": "5583725e",
   "metadata": {},
   "source": [
    "-After doing that I had to drop all of the old columns I just encoded in new columns, getting rid of all categorical data.\n",
    "\n",
    "\n",
    "\n"
   ]
  },
  {
   "cell_type": "markdown",
   "id": "e6ef0de8",
   "metadata": {},
   "source": [
    "- I also decided to get rid of total charges as it was just a product of two other features and wasnt really adding anything unique to my data."
   ]
  },
  {
   "cell_type": "markdown",
   "id": "f0573cab",
   "metadata": {},
   "source": [
    "-All that was laeft to do from there was to fix muddy data such as nulls that were appearing in certain places which was linked to weather or not they had internet service. It seemed appropriate to set all of the nulls to 0 so thats what I chose to do.\n",
    "\n"
   ]
  },
  {
   "cell_type": "markdown",
   "id": "2a6145ab",
   "metadata": {},
   "source": [
    "# Data Exploration:"
   ]
  },
  {
   "cell_type": "markdown",
   "id": "82700660",
   "metadata": {},
   "source": [
    "QUESTION 1 :Does Tenure Correlate with paperless billing?:"
   ]
  },
  {
   "cell_type": "markdown",
   "id": "9c30f7c5",
   "metadata": {},
   "source": [
    "- Hnull - There is no correlation between Tenure and paperless billing"
   ]
  },
  {
   "cell_type": "markdown",
   "id": "0b875bcd",
   "metadata": {},
   "source": [
    "- Halt - There is a correlation between Tenure and paperless billing"
   ]
  },
  {
   "cell_type": "markdown",
   "id": "380aaa74",
   "metadata": {},
   "source": [
    "(maybe significant proportion of people that dont use paperless billing have high tenure. high tenure = old and I would imagine older people are less likely to bill online)"
   ]
  },
  {
   "cell_type": "code",
   "execution_count": 10,
   "id": "2075af48",
   "metadata": {},
   "outputs": [
    {
     "data": {
      "image/png": "[encoded data removed]",
      "text/plain": [
       "<Figure size 432x288 with 1 Axes>"
      ]
     },
     "metadata": {
      "needs_background": "light"
     },
     "output_type": "display_data"
    }
   ],
   "source": [
    "alpha = .05\n",
    "#sns.relplot(data=train, x='tenure', y='uses_paperless_billing')\n",
    "sns.countplot(data = train, x = 'tenure', hue='uses_paperless_billing' )\n",
    "\n",
    "plt.title('are tenure and uses_paperless_billing related?')\n",
    "plt.show()\n",
    "#This shows that the instances of people using paperless billing is not related to their tenure as people do \n",
    "# and do not use paperless billing in a similar amount across all  values of tenure."
   ]
  },
  {
   "cell_type": "code",
   "execution_count": 11,
   "id": "b0707de2",
   "metadata": {},
   "outputs": [
    {
     "name": "stdout",
     "output_type": "stream",
     "text": [
      "We fail to reject the null hypothesis that there is no correlation.\n"
     ]
    }
   ],
   "source": [
    "r, p = stats.pearsonr(train.tenure, train.uses_paperless_billing)\n",
    "r, p\n",
    "if p < alpha:\n",
    "    print(\"We reject the null hypothesis\")\n",
    "else:\n",
    "    print(\"We fail to reject the null hypothesis that there is no correlation.\")\n",
    "    "
   ]
  },
  {
   "cell_type": "markdown",
   "id": "19a45134",
   "metadata": {},
   "source": [
    "This means that tenure and paperless billing can both be used as features in my models as they wont fill it with redundant information."
   ]
  },
  {
   "cell_type": "markdown",
   "id": "391f763d",
   "metadata": {},
   "source": [
    "QUESTION 2: Is uses paperless billing the same amongst people that do and dont churn?"
   ]
  },
  {
   "cell_type": "markdown",
   "id": "71c0727b",
   "metadata": {},
   "source": [
    "- Hnull - using paperless billing is the same amongst people that do and dont churn.\n"
   ]
  },
  {
   "cell_type": "markdown",
   "id": "26a39487",
   "metadata": {},
   "source": [
    "- Halt - using paperless billing is statistically different in people that do and dont churn\n"
   ]
  },
  {
   "cell_type": "code",
   "execution_count": 12,
   "id": "110ead28",
   "metadata": {},
   "outputs": [
    {
     "data": {
      "text/plain": [
       "<AxesSubplot:xlabel='uses_paperless_billing', ylabel='count'>"
      ]
     },
     "execution_count": 12,
     "metadata": {},
     "output_type": "execute_result"
    },
    {
     "data": {
      "image/png": "[encoded data removed]",
      "text/plain": [
       "<Figure size 432x288 with 1 Axes>"
      ]
     },
     "metadata": {
      "needs_background": "light"
     },
     "output_type": "display_data"
    }
   ],
   "source": [
    "sns.countplot(data = train, x = 'uses_paperless_billing', hue = 'did_churn')"
   ]
  },
  {
   "cell_type": "code",
   "execution_count": 13,
   "id": "e99b75fa",
   "metadata": {},
   "outputs": [],
   "source": [
    "churn = train[train['did_churn']== 1]\n",
    "no_churn = train[train['did_churn'] == 0]"
   ]
  },
  {
   "cell_type": "code",
   "execution_count": 14,
   "id": "cae9fbfd",
   "metadata": {},
   "outputs": [
    {
     "name": "stdout",
     "output_type": "stream",
     "text": [
      "The p-value is less than the alpha: True\n"
     ]
    }
   ],
   "source": [
    "tstat, p = stats.ttest_ind(churn.uses_paperless_billing,\n",
    "                no_churn.uses_paperless_billing, \n",
    "                equal_var=False\n",
    "               )\n",
    "print(f'The p-value is less than the alpha: {p < alpha}')"
   ]
  },
  {
   "cell_type": "markdown",
   "id": "931fe725",
   "metadata": {},
   "source": [
    "Since the p-val is less than alpha we can reject the null hypothesis that using paperless billing is the same amongst those who do and dont churn."
   ]
  },
  {
   "cell_type": "markdown",
   "id": "41d6acbe",
   "metadata": {},
   "source": [
    "This means that Using paperless billing could be a useful feature to include in our modeling.\n"
   ]
  },
  {
   "cell_type": "markdown",
   "id": "5bf4f85c",
   "metadata": {},
   "source": [
    "QUESTION 3: Is monthly charges the same amongst people that do and don't churn?"
   ]
  },
  {
   "cell_type": "markdown",
   "id": "fed5cbc6",
   "metadata": {},
   "source": [
    "- Hnull - monthly charges is the same amongst people that do and dont churn."
   ]
  },
  {
   "cell_type": "markdown",
   "id": "3d9fe527",
   "metadata": {},
   "source": [
    "- Halt - monthly charges is not the same amongst people that do and dont churn."
   ]
  },
  {
   "cell_type": "code",
   "execution_count": 15,
   "id": "95f1f0b6",
   "metadata": {},
   "outputs": [
    {
     "data": {
      "text/plain": [
       "<AxesSubplot:xlabel='monthly_charges', ylabel='Count'>"
      ]
     },
     "execution_count": 15,
     "metadata": {},
     "output_type": "execute_result"
    },
    {
     "data": {
      "image/png": "[encoded data removed]",
      "text/plain": [
       "<Figure size 432x288 with 1 Axes>"
      ]
     },
     "metadata": {
      "needs_background": "light"
     },
     "output_type": "display_data"
    }
   ],
   "source": [
    "sns.histplot(data = train, x = 'monthly_charges', hue = 'did_churn')"
   ]
  },
  {
   "cell_type": "code",
   "execution_count": 16,
   "id": "ad232b1d",
   "metadata": {},
   "outputs": [
    {
     "name": "stdout",
     "output_type": "stream",
     "text": [
      "The p-value is less than the alpha: True\n"
     ]
    }
   ],
   "source": [
    "tstat, p = stats.ttest_ind(churn.monthly_charges,\n",
    "                no_churn.monthly_charges, \n",
    "                equal_var=False\n",
    "               )\n",
    "print(f'The p-value is less than the alpha: {p < alpha}')"
   ]
  },
  {
   "cell_type": "markdown",
   "id": "2c1bbaf7",
   "metadata": {},
   "source": [
    "Since the p-val is less than alpha we can reject the null hypothesis and can conclude that monthly charges would be a useful feature for our model."
   ]
  },
  {
   "cell_type": "markdown",
   "id": "ce98ddfe",
   "metadata": {},
   "source": [
    "Question 4: What is the most relevant feature to customer churn"
   ]
  },
  {
   "cell_type": "code",
   "execution_count": 17,
   "id": "fa05de36",
   "metadata": {},
   "outputs": [
    {
     "data": {
      "text/plain": [
       "monthly_charges    3.695189\n",
       "Name: coeff, dtype: float64"
      ]
     },
     "execution_count": 17,
     "metadata": {},
     "output_type": "execute_result"
    }
   ],
   "source": [
    "logreg =LogisticRegression()\n",
    "logreg.fit(x_train,y_train)\n",
    "log_coeffs = pd.DataFrame(logreg.coef_[0], index=x_train.columns,\n",
    "                         columns=['coeff'])\n",
    "log_coeffs.coeff.nlargest(1)"
   ]
  },
  {
   "cell_type": "markdown",
   "id": "52ee422c",
   "metadata": {},
   "source": [
    "The most relevant feature to customer churn would be monthly_charges"
   ]
  },
  {
   "cell_type": "markdown",
   "id": "c2055a14",
   "metadata": {},
   "source": [
    "IMPORTANT FINDINGS FROM EXPLORATION:"
   ]
  },
  {
   "cell_type": "markdown",
   "id": "8d326f23",
   "metadata": {},
   "source": [
    "- Tenure and Paperless billing are statistically different and are not redundant features.\n",
    "- using paperless billing is not distrubuted the same amongst churn and not churn, making it an important feature for my models\n",
    "- monthly charges are not the same amongst churn and not churn, implying it will also be an important feature for models\n",
    "- monthly charges is the most relevant feature according to my list of logistic regression coefficients."
   ]
  },
  {
   "cell_type": "markdown",
   "id": "2fbc78c7",
   "metadata": {},
   "source": [
    "# Models and Evaluation:"
   ]
  },
  {
   "cell_type": "markdown",
   "id": "393aa8f2",
   "metadata": {},
   "source": [
    "Models I will make:"
   ]
  },
  {
   "cell_type": "markdown",
   "id": "f0261433",
   "metadata": {},
   "source": [
    "- Decision tree classifier"
   ]
  },
  {
   "cell_type": "markdown",
   "id": "d78e8d52",
   "metadata": {},
   "source": [
    "- Random Forest"
   ]
  },
  {
   "cell_type": "markdown",
   "id": "5d8d0c54",
   "metadata": {},
   "source": [
    "- Logistic Regression"
   ]
  },
  {
   "cell_type": "markdown",
   "id": "7a3c4719",
   "metadata": {},
   "source": [
    "I found the most success using all of these features in the dataset. it seemed the anytime I removed features my accuracy went down."
   ]
  },
  {
   "cell_type": "markdown",
   "id": "d7e356bf",
   "metadata": {},
   "source": [
    "My goal for the models will be to improve upon my baseline accuracy which is 73%\n"
   ]
  },
  {
   "cell_type": "code",
   "execution_count": 18,
   "id": "5687c587",
   "metadata": {},
   "outputs": [],
   "source": [
    "baseline_accuracy = round((train.did_churn == 0).mean(), 4) * 100"
   ]
  },
  {
   "cell_type": "code",
   "execution_count": 19,
   "id": "fbcb4820",
   "metadata": {},
   "outputs": [
    {
     "data": {
      "text/plain": [
       "73.47"
      ]
     },
     "execution_count": 19,
     "metadata": {},
     "output_type": "execute_result"
    }
   ],
   "source": [
    "baseline_accuracy"
   ]
  },
  {
   "cell_type": "markdown",
   "id": "1b2394ba",
   "metadata": {},
   "source": [
    "-------------------------------------------------------------Decision Tree Model---------------------------------------------------------------------------------"
   ]
  },
  {
   "cell_type": "code",
   "execution_count": 20,
   "id": "64757727",
   "metadata": {},
   "outputs": [
    {
     "data": {
      "text/html": [
       "<div>\n",
       "<style scoped>\n",
       "    .dataframe tbody tr th:only-of-type {\n",
       "        vertical-align: middle;\n",
       "    }\n",
       "\n",
       "    .dataframe tbody tr th {\n",
       "        vertical-align: top;\n",
       "    }\n",
       "\n",
       "    .dataframe thead th {\n",
       "        text-align: right;\n",
       "    }\n",
       "</style>\n",
       "<table border=\"1\" class=\"dataframe\">\n",
       "  <thead>\n",
       "    <tr style=\"text-align: right;\">\n",
       "      <th></th>\n",
       "      <th>max_depth</th>\n",
       "      <th>train_accuracy</th>\n",
       "      <th>validate_accuracy</th>\n",
       "      <th>difference</th>\n",
       "    </tr>\n",
       "  </thead>\n",
       "  <tbody>\n",
       "    <tr>\n",
       "      <th>0</th>\n",
       "      <td>1</td>\n",
       "      <td>0.734675</td>\n",
       "      <td>0.734564</td>\n",
       "      <td>0.000111</td>\n",
       "    </tr>\n",
       "    <tr>\n",
       "      <th>1</th>\n",
       "      <td>2</td>\n",
       "      <td>0.764260</td>\n",
       "      <td>0.726757</td>\n",
       "      <td>0.037504</td>\n",
       "    </tr>\n",
       "    <tr>\n",
       "      <th>2</th>\n",
       "      <td>3</td>\n",
       "      <td>0.792663</td>\n",
       "      <td>0.770050</td>\n",
       "      <td>0.022613</td>\n",
       "    </tr>\n",
       "    <tr>\n",
       "      <th>3</th>\n",
       "      <td>4</td>\n",
       "      <td>0.801420</td>\n",
       "      <td>0.772889</td>\n",
       "      <td>0.028532</td>\n",
       "    </tr>\n",
       "    <tr>\n",
       "      <th>4</th>\n",
       "      <td>5</td>\n",
       "      <td>0.806627</td>\n",
       "      <td>0.772889</td>\n",
       "      <td>0.033739</td>\n",
       "    </tr>\n",
       "    <tr>\n",
       "      <th>5</th>\n",
       "      <td>6</td>\n",
       "      <td>0.814675</td>\n",
       "      <td>0.771469</td>\n",
       "      <td>0.043205</td>\n",
       "    </tr>\n",
       "    <tr>\n",
       "      <th>6</th>\n",
       "      <td>7</td>\n",
       "      <td>0.829822</td>\n",
       "      <td>0.762952</td>\n",
       "      <td>0.066870</td>\n",
       "    </tr>\n",
       "    <tr>\n",
       "      <th>7</th>\n",
       "      <td>8</td>\n",
       "      <td>0.842840</td>\n",
       "      <td>0.763662</td>\n",
       "      <td>0.079178</td>\n",
       "    </tr>\n",
       "    <tr>\n",
       "      <th>8</th>\n",
       "      <td>9</td>\n",
       "      <td>0.867219</td>\n",
       "      <td>0.758694</td>\n",
       "      <td>0.108525</td>\n",
       "    </tr>\n",
       "    <tr>\n",
       "      <th>9</th>\n",
       "      <td>10</td>\n",
       "      <td>0.885444</td>\n",
       "      <td>0.752307</td>\n",
       "      <td>0.133137</td>\n",
       "    </tr>\n",
       "    <tr>\n",
       "      <th>10</th>\n",
       "      <td>11</td>\n",
       "      <td>0.911006</td>\n",
       "      <td>0.736693</td>\n",
       "      <td>0.174313</td>\n",
       "    </tr>\n",
       "    <tr>\n",
       "      <th>11</th>\n",
       "      <td>12</td>\n",
       "      <td>0.933254</td>\n",
       "      <td>0.743080</td>\n",
       "      <td>0.190174</td>\n",
       "    </tr>\n",
       "    <tr>\n",
       "      <th>12</th>\n",
       "      <td>13</td>\n",
       "      <td>0.951006</td>\n",
       "      <td>0.734564</td>\n",
       "      <td>0.216442</td>\n",
       "    </tr>\n",
       "    <tr>\n",
       "      <th>13</th>\n",
       "      <td>14</td>\n",
       "      <td>0.963314</td>\n",
       "      <td>0.723208</td>\n",
       "      <td>0.240106</td>\n",
       "    </tr>\n",
       "    <tr>\n",
       "      <th>14</th>\n",
       "      <td>15</td>\n",
       "      <td>0.974675</td>\n",
       "      <td>0.726047</td>\n",
       "      <td>0.248628</td>\n",
       "    </tr>\n",
       "    <tr>\n",
       "      <th>15</th>\n",
       "      <td>16</td>\n",
       "      <td>0.982485</td>\n",
       "      <td>0.719659</td>\n",
       "      <td>0.262826</td>\n",
       "    </tr>\n",
       "    <tr>\n",
       "      <th>16</th>\n",
       "      <td>17</td>\n",
       "      <td>0.990059</td>\n",
       "      <td>0.721079</td>\n",
       "      <td>0.268980</td>\n",
       "    </tr>\n",
       "    <tr>\n",
       "      <th>17</th>\n",
       "      <td>18</td>\n",
       "      <td>0.993609</td>\n",
       "      <td>0.716820</td>\n",
       "      <td>0.276789</td>\n",
       "    </tr>\n",
       "    <tr>\n",
       "      <th>18</th>\n",
       "      <td>19</td>\n",
       "      <td>0.995503</td>\n",
       "      <td>0.721789</td>\n",
       "      <td>0.273714</td>\n",
       "    </tr>\n",
       "    <tr>\n",
       "      <th>19</th>\n",
       "      <td>20</td>\n",
       "      <td>0.997160</td>\n",
       "      <td>0.726047</td>\n",
       "      <td>0.271113</td>\n",
       "    </tr>\n",
       "  </tbody>\n",
       "</table>\n",
       "</div>"
      ],
      "text/plain": [
       "    max_depth  train_accuracy  validate_accuracy  difference\n",
       "0           1        0.734675           0.734564    0.000111\n",
       "1           2        0.764260           0.726757    0.037504\n",
       "2           3        0.792663           0.770050    0.022613\n",
       "3           4        0.801420           0.772889    0.028532\n",
       "4           5        0.806627           0.772889    0.033739\n",
       "5           6        0.814675           0.771469    0.043205\n",
       "6           7        0.829822           0.762952    0.066870\n",
       "7           8        0.842840           0.763662    0.079178\n",
       "8           9        0.867219           0.758694    0.108525\n",
       "9          10        0.885444           0.752307    0.133137\n",
       "10         11        0.911006           0.736693    0.174313\n",
       "11         12        0.933254           0.743080    0.190174\n",
       "12         13        0.951006           0.734564    0.216442\n",
       "13         14        0.963314           0.723208    0.240106\n",
       "14         15        0.974675           0.726047    0.248628\n",
       "15         16        0.982485           0.719659    0.262826\n",
       "16         17        0.990059           0.721079    0.268980\n",
       "17         18        0.993609           0.716820    0.276789\n",
       "18         19        0.995503           0.721789    0.273714\n",
       "19         20        0.997160           0.726047    0.271113"
      ]
     },
     "execution_count": 20,
     "metadata": {},
     "output_type": "execute_result"
    }
   ],
   "source": [
    "# This is where I make the different models and find the best parameters for my Decision Tree\n",
    "metrics = []\n",
    "for i in range(1, 21,1):\n",
    "    DTC = DecisionTreeClassifier(max_depth=i, random_state=123)\n",
    "\n",
    "    # Fit the model (on train and only train)\n",
    "    DTC = DTC.fit(x_train, y_train)\n",
    "\n",
    "    # Use the model\n",
    "    # We'll evaluate the model's performance on train, first then check validate\n",
    "    train_acc = DTC.score(x_train, y_train)\n",
    "    \n",
    "    val_acc = DTC.score(x_validate, y_validate)\n",
    "\n",
    "    output = {\n",
    "        \"max_depth\": i,\n",
    "        \"train_accuracy\": train_acc,\n",
    "        \"validate_accuracy\": val_acc\n",
    "    }\n",
    "    \n",
    "    metrics.append(output)\n",
    "df = pd.DataFrame(metrics)\n",
    "df[\"difference\"] = df.train_accuracy - df.validate_accuracy\n",
    "df"
   ]
  },
  {
   "cell_type": "markdown",
   "id": "eb8b8427",
   "metadata": {},
   "source": [
    "As you can see here we are getting our best and most consistant results at a max depth of 4, so that is what we will use going forward."
   ]
  },
  {
   "cell_type": "code",
   "execution_count": 21,
   "id": "879e6aa7",
   "metadata": {},
   "outputs": [
    {
     "data": {
      "text/plain": [
       "77.2888573456352"
      ]
     },
     "execution_count": 21,
     "metadata": {},
     "output_type": "execute_result"
    }
   ],
   "source": [
    "#Here I am creating fitting and scoring my Decision Tree Model\n",
    "DTC = DecisionTreeClassifier(max_depth = 4)\n",
    "DTC.fit(x_train,y_train)\n",
    "DTC.score(x_validate,y_validate) * 100"
   ]
  },
  {
   "cell_type": "code",
   "execution_count": 22,
   "id": "3c8c2359",
   "metadata": {},
   "outputs": [
    {
     "data": {
      "text/html": [
       "<div>\n",
       "<style scoped>\n",
       "    .dataframe tbody tr th:only-of-type {\n",
       "        vertical-align: middle;\n",
       "    }\n",
       "\n",
       "    .dataframe tbody tr th {\n",
       "        vertical-align: top;\n",
       "    }\n",
       "\n",
       "    .dataframe thead th {\n",
       "        text-align: right;\n",
       "    }\n",
       "</style>\n",
       "<table border=\"1\" class=\"dataframe\">\n",
       "  <thead>\n",
       "    <tr style=\"text-align: right;\">\n",
       "      <th></th>\n",
       "      <th>0</th>\n",
       "      <th>1</th>\n",
       "      <th>accuracy</th>\n",
       "      <th>macro avg</th>\n",
       "      <th>weighted avg</th>\n",
       "    </tr>\n",
       "  </thead>\n",
       "  <tbody>\n",
       "    <tr>\n",
       "      <th>precision</th>\n",
       "      <td>0.820054</td>\n",
       "      <td>0.592466</td>\n",
       "      <td>0.772889</td>\n",
       "      <td>0.706260</td>\n",
       "      <td>0.759644</td>\n",
       "    </tr>\n",
       "    <tr>\n",
       "      <th>recall</th>\n",
       "      <td>0.885024</td>\n",
       "      <td>0.462567</td>\n",
       "      <td>0.772889</td>\n",
       "      <td>0.673795</td>\n",
       "      <td>0.772889</td>\n",
       "    </tr>\n",
       "    <tr>\n",
       "      <th>f1-score</th>\n",
       "      <td>0.851301</td>\n",
       "      <td>0.519520</td>\n",
       "      <td>0.772889</td>\n",
       "      <td>0.685410</td>\n",
       "      <td>0.763234</td>\n",
       "    </tr>\n",
       "    <tr>\n",
       "      <th>support</th>\n",
       "      <td>1035.000000</td>\n",
       "      <td>374.000000</td>\n",
       "      <td>0.772889</td>\n",
       "      <td>1409.000000</td>\n",
       "      <td>1409.000000</td>\n",
       "    </tr>\n",
       "  </tbody>\n",
       "</table>\n",
       "</div>"
      ],
      "text/plain": [
       "                     0           1  accuracy    macro avg  weighted avg\n",
       "precision     0.820054    0.592466  0.772889     0.706260      0.759644\n",
       "recall        0.885024    0.462567  0.772889     0.673795      0.772889\n",
       "f1-score      0.851301    0.519520  0.772889     0.685410      0.763234\n",
       "support    1035.000000  374.000000  0.772889  1409.000000   1409.000000"
      ]
     },
     "execution_count": 22,
     "metadata": {},
     "output_type": "execute_result"
    }
   ],
   "source": [
    "# Here I am printing out a more detailed classification report of my DecisionTree model\n",
    "y_preds = pd.DataFrame({\n",
    " 'y_act': y_validate,\n",
    "'baseline': 0,\n",
    "'DTC': DTC.predict(x_validate)})\n",
    "pd.DataFrame(classification_report(y_preds.y_act, y_preds.DTC, output_dict=True))"
   ]
  },
  {
   "cell_type": "markdown",
   "id": "16a2e591",
   "metadata": {},
   "source": [
    "as you can see on this model I was able to achieve a nearly 5 % increase in ability to determine customer churn compared to our baseline model.\n"
   ]
  },
  {
   "cell_type": "markdown",
   "id": "b67b3348",
   "metadata": {},
   "source": [
    "------------------------------------------------------------Random Forest Model------------------------------------------------------------------------------------------"
   ]
  },
  {
   "cell_type": "code",
   "execution_count": 23,
   "id": "15f0511e",
   "metadata": {},
   "outputs": [
    {
     "data": {
      "text/html": [
       "<div>\n",
       "<style scoped>\n",
       "    .dataframe tbody tr th:only-of-type {\n",
       "        vertical-align: middle;\n",
       "    }\n",
       "\n",
       "    .dataframe tbody tr th {\n",
       "        vertical-align: top;\n",
       "    }\n",
       "\n",
       "    .dataframe thead th {\n",
       "        text-align: right;\n",
       "    }\n",
       "</style>\n",
       "<table border=\"1\" class=\"dataframe\">\n",
       "  <thead>\n",
       "    <tr style=\"text-align: right;\">\n",
       "      <th></th>\n",
       "      <th>min_leaf</th>\n",
       "      <th>max_depth</th>\n",
       "      <th>train_accuracy</th>\n",
       "      <th>validate_accuracy</th>\n",
       "      <th>difference</th>\n",
       "    </tr>\n",
       "  </thead>\n",
       "  <tbody>\n",
       "    <tr>\n",
       "      <th>0</th>\n",
       "      <td>20</td>\n",
       "      <td>2</td>\n",
       "      <td>0.755740</td>\n",
       "      <td>0.745919</td>\n",
       "      <td>0.009821</td>\n",
       "    </tr>\n",
       "    <tr>\n",
       "      <th>1</th>\n",
       "      <td>18</td>\n",
       "      <td>4</td>\n",
       "      <td>0.802840</td>\n",
       "      <td>0.782825</td>\n",
       "      <td>0.020016</td>\n",
       "    </tr>\n",
       "    <tr>\n",
       "      <th>2</th>\n",
       "      <td>16</td>\n",
       "      <td>6</td>\n",
       "      <td>0.822012</td>\n",
       "      <td>0.793471</td>\n",
       "      <td>0.028541</td>\n",
       "    </tr>\n",
       "    <tr>\n",
       "      <th>3</th>\n",
       "      <td>14</td>\n",
       "      <td>8</td>\n",
       "      <td>0.849231</td>\n",
       "      <td>0.793471</td>\n",
       "      <td>0.055760</td>\n",
       "    </tr>\n",
       "    <tr>\n",
       "      <th>4</th>\n",
       "      <td>12</td>\n",
       "      <td>10</td>\n",
       "      <td>0.894438</td>\n",
       "      <td>0.794180</td>\n",
       "      <td>0.100258</td>\n",
       "    </tr>\n",
       "    <tr>\n",
       "      <th>5</th>\n",
       "      <td>10</td>\n",
       "      <td>12</td>\n",
       "      <td>0.953609</td>\n",
       "      <td>0.790632</td>\n",
       "      <td>0.162978</td>\n",
       "    </tr>\n",
       "    <tr>\n",
       "      <th>6</th>\n",
       "      <td>8</td>\n",
       "      <td>14</td>\n",
       "      <td>0.986036</td>\n",
       "      <td>0.783534</td>\n",
       "      <td>0.202501</td>\n",
       "    </tr>\n",
       "    <tr>\n",
       "      <th>7</th>\n",
       "      <td>6</td>\n",
       "      <td>16</td>\n",
       "      <td>0.993846</td>\n",
       "      <td>0.782825</td>\n",
       "      <td>0.211021</td>\n",
       "    </tr>\n",
       "    <tr>\n",
       "      <th>8</th>\n",
       "      <td>4</td>\n",
       "      <td>18</td>\n",
       "      <td>0.997160</td>\n",
       "      <td>0.783534</td>\n",
       "      <td>0.213625</td>\n",
       "    </tr>\n",
       "    <tr>\n",
       "      <th>9</th>\n",
       "      <td>2</td>\n",
       "      <td>20</td>\n",
       "      <td>0.997870</td>\n",
       "      <td>0.789922</td>\n",
       "      <td>0.207948</td>\n",
       "    </tr>\n",
       "  </tbody>\n",
       "</table>\n",
       "</div>"
      ],
      "text/plain": [
       "   min_leaf  max_depth  train_accuracy  validate_accuracy  difference\n",
       "0        20          2        0.755740           0.745919    0.009821\n",
       "1        18          4        0.802840           0.782825    0.020016\n",
       "2        16          6        0.822012           0.793471    0.028541\n",
       "3        14          8        0.849231           0.793471    0.055760\n",
       "4        12         10        0.894438           0.794180    0.100258\n",
       "5        10         12        0.953609           0.790632    0.162978\n",
       "6         8         14        0.986036           0.783534    0.202501\n",
       "7         6         16        0.993846           0.782825    0.211021\n",
       "8         4         18        0.997160           0.783534    0.213625\n",
       "9         2         20        0.997870           0.789922    0.207948"
      ]
     },
     "execution_count": 23,
     "metadata": {},
     "output_type": "execute_result"
    }
   ],
   "source": [
    "#This is where I made the different models and chose my best parameters\n",
    "metrics = []\n",
    "l = 20\n",
    "for i in range(2, 21,2):\n",
    "    rf = RandomForestClassifier(max_depth=i, random_state=123)\n",
    "\n",
    "    # Fit the model (on train and only train)\n",
    "    rf = rf.fit(x_train, y_train)\n",
    "\n",
    "    # Use the model\n",
    "    # We'll evaluate the model's performance on train, first then check validate\n",
    "    train_acc = rf.score(x_train, y_train)\n",
    "    \n",
    "    val_acc = rf.score(x_validate, y_validate)\n",
    "\n",
    "    output = {\n",
    "        'min_leaf': l,\n",
    "        \"max_depth\": i,\n",
    "        \"train_accuracy\": train_acc,\n",
    "        \"validate_accuracy\": val_acc\n",
    "    }\n",
    "    \n",
    "    metrics.append(output)\n",
    "    l = l - 2\n",
    "df = pd.DataFrame(metrics)\n",
    "df[\"difference\"] = df.train_accuracy - df.validate_accuracy\n",
    "df"
   ]
  },
  {
   "cell_type": "markdown",
   "id": "ebc8dcc3",
   "metadata": {},
   "source": [
    "Here you can see that we were getting our best results at a min leaf of 16 and a max depth of 6, so we will use those parameters as we validate."
   ]
  },
  {
   "cell_type": "code",
   "execution_count": 24,
   "id": "0809a547",
   "metadata": {},
   "outputs": [
    {
     "data": {
      "text/plain": [
       "0.7970191625266146"
      ]
     },
     "execution_count": 24,
     "metadata": {},
     "output_type": "execute_result"
    }
   ],
   "source": [
    "rf = RandomForestClassifier(min_samples_leaf = 16 ,max_depth = 6 , random_state = 123)\n",
    "rf.fit(x_train,y_train)\n",
    "rf.score(x_validate,y_validate)"
   ]
  },
  {
   "cell_type": "markdown",
   "id": "3331cc80",
   "metadata": {},
   "source": [
    "above is how we score on validate"
   ]
  },
  {
   "cell_type": "code",
   "execution_count": 25,
   "id": "0f37a56c",
   "metadata": {},
   "outputs": [
    {
     "data": {
      "text/html": [
       "<div>\n",
       "<style scoped>\n",
       "    .dataframe tbody tr th:only-of-type {\n",
       "        vertical-align: middle;\n",
       "    }\n",
       "\n",
       "    .dataframe tbody tr th {\n",
       "        vertical-align: top;\n",
       "    }\n",
       "\n",
       "    .dataframe thead th {\n",
       "        text-align: right;\n",
       "    }\n",
       "</style>\n",
       "<table border=\"1\" class=\"dataframe\">\n",
       "  <thead>\n",
       "    <tr style=\"text-align: right;\">\n",
       "      <th></th>\n",
       "      <th>0</th>\n",
       "      <th>1</th>\n",
       "      <th>accuracy</th>\n",
       "      <th>macro avg</th>\n",
       "      <th>weighted avg</th>\n",
       "    </tr>\n",
       "  </thead>\n",
       "  <tbody>\n",
       "    <tr>\n",
       "      <th>precision</th>\n",
       "      <td>0.827074</td>\n",
       "      <td>0.666667</td>\n",
       "      <td>0.797019</td>\n",
       "      <td>0.746870</td>\n",
       "      <td>0.784496</td>\n",
       "    </tr>\n",
       "    <tr>\n",
       "      <th>recall</th>\n",
       "      <td>0.914976</td>\n",
       "      <td>0.470588</td>\n",
       "      <td>0.797019</td>\n",
       "      <td>0.692782</td>\n",
       "      <td>0.797019</td>\n",
       "    </tr>\n",
       "    <tr>\n",
       "      <th>f1-score</th>\n",
       "      <td>0.868807</td>\n",
       "      <td>0.551724</td>\n",
       "      <td>0.797019</td>\n",
       "      <td>0.710266</td>\n",
       "      <td>0.784642</td>\n",
       "    </tr>\n",
       "    <tr>\n",
       "      <th>support</th>\n",
       "      <td>1035.000000</td>\n",
       "      <td>374.000000</td>\n",
       "      <td>0.797019</td>\n",
       "      <td>1409.000000</td>\n",
       "      <td>1409.000000</td>\n",
       "    </tr>\n",
       "  </tbody>\n",
       "</table>\n",
       "</div>"
      ],
      "text/plain": [
       "                     0           1  accuracy    macro avg  weighted avg\n",
       "precision     0.827074    0.666667  0.797019     0.746870      0.784496\n",
       "recall        0.914976    0.470588  0.797019     0.692782      0.797019\n",
       "f1-score      0.868807    0.551724  0.797019     0.710266      0.784642\n",
       "support    1035.000000  374.000000  0.797019  1409.000000   1409.000000"
      ]
     },
     "execution_count": 25,
     "metadata": {},
     "output_type": "execute_result"
    }
   ],
   "source": [
    "y_preds = pd.DataFrame({\n",
    " 'y_act': y_validate,\n",
    "'baseline': 0,\n",
    "'rf': rf.predict(x_validate)})\n",
    "pd.DataFrame(classification_report(y_preds.y_act, y_preds.rf, output_dict=True))"
   ]
  },
  {
   "cell_type": "markdown",
   "id": "5fb34389",
   "metadata": {},
   "source": [
    "I am still evaluating above our baseline and was nearly able to close the gap on 80% accuracy predicting customer churn with this model."
   ]
  },
  {
   "cell_type": "markdown",
   "id": "074c6517",
   "metadata": {},
   "source": [
    "------------------------------------------------------------Logistic Regression------------------------------------------------------------------------------------------"
   ]
  },
  {
   "cell_type": "markdown",
   "id": "32cad717",
   "metadata": {},
   "source": [
    "For my logistic regression model I found my best results at a C value of .1"
   ]
  },
  {
   "cell_type": "code",
   "execution_count": 26,
   "id": "b3afb7da",
   "metadata": {},
   "outputs": [
    {
     "data": {
      "text/html": [
       "<div>\n",
       "<style scoped>\n",
       "    .dataframe tbody tr th:only-of-type {\n",
       "        vertical-align: middle;\n",
       "    }\n",
       "\n",
       "    .dataframe tbody tr th {\n",
       "        vertical-align: top;\n",
       "    }\n",
       "\n",
       "    .dataframe thead th {\n",
       "        text-align: right;\n",
       "    }\n",
       "</style>\n",
       "<table border=\"1\" class=\"dataframe\">\n",
       "  <thead>\n",
       "    <tr style=\"text-align: right;\">\n",
       "      <th></th>\n",
       "      <th>C-val</th>\n",
       "      <th>train_accuracy</th>\n",
       "      <th>validate_accuracy</th>\n",
       "      <th>difference</th>\n",
       "    </tr>\n",
       "  </thead>\n",
       "  <tbody>\n",
       "    <tr>\n",
       "      <th>0</th>\n",
       "      <td>0.1</td>\n",
       "      <td>0.809941</td>\n",
       "      <td>0.799858</td>\n",
       "      <td>0.010083</td>\n",
       "    </tr>\n",
       "    <tr>\n",
       "      <th>1</th>\n",
       "      <td>0.2</td>\n",
       "      <td>0.808994</td>\n",
       "      <td>0.797019</td>\n",
       "      <td>0.011975</td>\n",
       "    </tr>\n",
       "    <tr>\n",
       "      <th>2</th>\n",
       "      <td>0.3</td>\n",
       "      <td>0.808284</td>\n",
       "      <td>0.798439</td>\n",
       "      <td>0.009845</td>\n",
       "    </tr>\n",
       "    <tr>\n",
       "      <th>3</th>\n",
       "      <td>0.4</td>\n",
       "      <td>0.808284</td>\n",
       "      <td>0.794890</td>\n",
       "      <td>0.013394</td>\n",
       "    </tr>\n",
       "    <tr>\n",
       "      <th>4</th>\n",
       "      <td>0.5</td>\n",
       "      <td>0.808994</td>\n",
       "      <td>0.795600</td>\n",
       "      <td>0.013394</td>\n",
       "    </tr>\n",
       "    <tr>\n",
       "      <th>5</th>\n",
       "      <td>0.6</td>\n",
       "      <td>0.808284</td>\n",
       "      <td>0.797729</td>\n",
       "      <td>0.010555</td>\n",
       "    </tr>\n",
       "    <tr>\n",
       "      <th>6</th>\n",
       "      <td>0.7</td>\n",
       "      <td>0.808284</td>\n",
       "      <td>0.794890</td>\n",
       "      <td>0.013394</td>\n",
       "    </tr>\n",
       "    <tr>\n",
       "      <th>7</th>\n",
       "      <td>0.8</td>\n",
       "      <td>0.808521</td>\n",
       "      <td>0.794890</td>\n",
       "      <td>0.013631</td>\n",
       "    </tr>\n",
       "    <tr>\n",
       "      <th>8</th>\n",
       "      <td>0.9</td>\n",
       "      <td>0.809231</td>\n",
       "      <td>0.794180</td>\n",
       "      <td>0.015050</td>\n",
       "    </tr>\n",
       "    <tr>\n",
       "      <th>9</th>\n",
       "      <td>1.0</td>\n",
       "      <td>0.808521</td>\n",
       "      <td>0.796309</td>\n",
       "      <td>0.012211</td>\n",
       "    </tr>\n",
       "  </tbody>\n",
       "</table>\n",
       "</div>"
      ],
      "text/plain": [
       "   C-val  train_accuracy  validate_accuracy  difference\n",
       "0    0.1        0.809941           0.799858    0.010083\n",
       "1    0.2        0.808994           0.797019    0.011975\n",
       "2    0.3        0.808284           0.798439    0.009845\n",
       "3    0.4        0.808284           0.794890    0.013394\n",
       "4    0.5        0.808994           0.795600    0.013394\n",
       "5    0.6        0.808284           0.797729    0.010555\n",
       "6    0.7        0.808284           0.794890    0.013394\n",
       "7    0.8        0.808521           0.794890    0.013631\n",
       "8    0.9        0.809231           0.794180    0.015050\n",
       "9    1.0        0.808521           0.796309    0.012211"
      ]
     },
     "execution_count": 26,
     "metadata": {},
     "output_type": "execute_result"
    }
   ],
   "source": [
    "# This is where I made the different models and found the best parameter.\n",
    "metrics = []\n",
    "for i in range(1, 11,1):\n",
    "    i = i * .1\n",
    "    logreg = LogisticRegression(C = i)\n",
    "    logreg.fit(x_train,y_train)\n",
    "\n",
    "    # Fit the model (on train and only train)\n",
    "\n",
    "    # Use the model\n",
    "    # We'll evaluate the model's performance on train, first then check validate\n",
    "    train_acc = logreg.score(x_train, y_train)\n",
    "    \n",
    "    val_acc = logreg.score(x_validate, y_validate)\n",
    "\n",
    "    output = {\n",
    "        \"C-val\": i,\n",
    "        \"train_accuracy\": train_acc,\n",
    "        \"validate_accuracy\": val_acc\n",
    "    }\n",
    "    \n",
    "    metrics.append(output)\n",
    "    l = l - 2\n",
    "df = pd.DataFrame(metrics)\n",
    "df[\"difference\"] = df.train_accuracy - df.validate_accuracy\n",
    "df"
   ]
  },
  {
   "cell_type": "markdown",
   "id": "b200b6c0",
   "metadata": {},
   "source": [
    "As you can see we got our best results at a c value of .1, so we will use that as our parameter going forward."
   ]
  },
  {
   "cell_type": "code",
   "execution_count": 27,
   "id": "ce131317",
   "metadata": {},
   "outputs": [
    {
     "data": {
      "text/plain": [
       "0.7998580553584103"
      ]
     },
     "execution_count": 27,
     "metadata": {},
     "output_type": "execute_result"
    }
   ],
   "source": [
    "logreg = LogisticRegression(C = .1 , random_state = 123)\n",
    "logreg.fit(x_train,y_train)\n",
    "logreg.score(x_validate,y_validate)"
   ]
  },
  {
   "cell_type": "code",
   "execution_count": 28,
   "id": "ae2ced55",
   "metadata": {},
   "outputs": [
    {
     "data": {
      "text/html": [
       "<div>\n",
       "<style scoped>\n",
       "    .dataframe tbody tr th:only-of-type {\n",
       "        vertical-align: middle;\n",
       "    }\n",
       "\n",
       "    .dataframe tbody tr th {\n",
       "        vertical-align: top;\n",
       "    }\n",
       "\n",
       "    .dataframe thead th {\n",
       "        text-align: right;\n",
       "    }\n",
       "</style>\n",
       "<table border=\"1\" class=\"dataframe\">\n",
       "  <thead>\n",
       "    <tr style=\"text-align: right;\">\n",
       "      <th></th>\n",
       "      <th>0</th>\n",
       "      <th>1</th>\n",
       "      <th>accuracy</th>\n",
       "      <th>macro avg</th>\n",
       "      <th>weighted avg</th>\n",
       "    </tr>\n",
       "  </thead>\n",
       "  <tbody>\n",
       "    <tr>\n",
       "      <th>precision</th>\n",
       "      <td>0.831718</td>\n",
       "      <td>0.667883</td>\n",
       "      <td>0.799858</td>\n",
       "      <td>0.749801</td>\n",
       "      <td>0.788230</td>\n",
       "    </tr>\n",
       "    <tr>\n",
       "      <th>recall</th>\n",
       "      <td>0.912077</td>\n",
       "      <td>0.489305</td>\n",
       "      <td>0.799858</td>\n",
       "      <td>0.700691</td>\n",
       "      <td>0.799858</td>\n",
       "    </tr>\n",
       "    <tr>\n",
       "      <th>f1-score</th>\n",
       "      <td>0.870046</td>\n",
       "      <td>0.564815</td>\n",
       "      <td>0.799858</td>\n",
       "      <td>0.717430</td>\n",
       "      <td>0.789027</td>\n",
       "    </tr>\n",
       "    <tr>\n",
       "      <th>support</th>\n",
       "      <td>1035.000000</td>\n",
       "      <td>374.000000</td>\n",
       "      <td>0.799858</td>\n",
       "      <td>1409.000000</td>\n",
       "      <td>1409.000000</td>\n",
       "    </tr>\n",
       "  </tbody>\n",
       "</table>\n",
       "</div>"
      ],
      "text/plain": [
       "                     0           1  accuracy    macro avg  weighted avg\n",
       "precision     0.831718    0.667883  0.799858     0.749801      0.788230\n",
       "recall        0.912077    0.489305  0.799858     0.700691      0.799858\n",
       "f1-score      0.870046    0.564815  0.799858     0.717430      0.789027\n",
       "support    1035.000000  374.000000  0.799858  1409.000000   1409.000000"
      ]
     },
     "execution_count": 28,
     "metadata": {},
     "output_type": "execute_result"
    }
   ],
   "source": [
    "y_preds = pd.DataFrame({\n",
    " 'y_act': y_validate,\n",
    "'baseline': 0,\n",
    "'logreg': logreg.predict(x_validate)})\n",
    "pd.DataFrame(classification_report(y_preds.y_act, y_preds.logreg, output_dict=True))"
   ]
  },
  {
   "cell_type": "code",
   "execution_count": null,
   "id": "0bfd57f3",
   "metadata": {},
   "outputs": [],
   "source": []
  },
  {
   "cell_type": "markdown",
   "id": "f8d90bdc",
   "metadata": {},
   "source": [
    "For my final and best model we come in at just under 80% accuracy which is around 1 % more precise than my previous two models and 6 % more than the baseline."
   ]
  },
  {
   "cell_type": "markdown",
   "id": "744811a5",
   "metadata": {},
   "source": [
    "IMPORTANT FINDINGS FROM EVALUATION:"
   ]
  },
  {
   "cell_type": "markdown",
   "id": "a2f7dd0d",
   "metadata": {},
   "source": [
    "- I was able to create 3 models that are training and validating above the baseline\n",
    "- My best performing model is my Logistic regression model validating at almost 80%\n",
    "- My models are achieving very high accuracies nearing 100% on the train datasets and as I move to validating the accuracy falls to around 80 % on all models"
   ]
  },
  {
   "cell_type": "markdown",
   "id": "5cca5dc9",
   "metadata": {},
   "source": [
    "# Testing best model:"
   ]
  },
  {
   "cell_type": "markdown",
   "id": "b52252c8",
   "metadata": {},
   "source": [
    "Lets test the best model against unseen data."
   ]
  },
  {
   "cell_type": "code",
   "execution_count": null,
   "id": "30c48e84",
   "metadata": {},
   "outputs": [],
   "source": [
    "predicted_test = logreg.predict(x_test)\n",
    "print(classification_report(y_test, logreg.predict(x_test)))\n"
   ]
  },
  {
   "cell_type": "markdown",
   "id": "eea0fd93",
   "metadata": {},
   "source": [
    "As you can see We are  testing at around 79% which is very similar to how we tested on validate which is above the baseline by about 6 %."
   ]
  },
  {
   "cell_type": "markdown",
   "id": "119ed98c",
   "metadata": {},
   "source": [
    "#  Creating Predictions CSV:"
   ]
  },
  {
   "cell_type": "code",
   "execution_count": null,
   "id": "045b6455",
   "metadata": {},
   "outputs": [],
   "source": [
    "prob_test = logreg.predict_proba(x_test)"
   ]
  },
  {
   "cell_type": "code",
   "execution_count": null,
   "id": "c7ce23df",
   "metadata": {},
   "outputs": [],
   "source": [
    "preds_df = pd.DataFrame(prob_test, columns= logreg.classes_.tolist())\n",
    "preds_df = preds_df.rename(columns={0 : 'No Churn', 1: 'Churn'})\n",
    "preds_df = preds_df.drop(columns = 'No Churn')\n",
    "preds_df"
   ]
  },
  {
   "cell_type": "code",
   "execution_count": null,
   "id": "2bd5ef1c",
   "metadata": {},
   "outputs": [],
   "source": [
    "reset_test = test.reset_index()"
   ]
  },
  {
   "cell_type": "code",
   "execution_count": null,
   "id": "3b56d1ca",
   "metadata": {},
   "outputs": [],
   "source": [
    "reset_test.head()"
   ]
  },
  {
   "cell_type": "code",
   "execution_count": null,
   "id": "d479db43",
   "metadata": {},
   "outputs": [],
   "source": [
    "test_prob_df = pd.concat([reset_test, preds_df], axis=1)\n",
    "test_prob_df.head()"
   ]
  },
  {
   "cell_type": "code",
   "execution_count": null,
   "id": "eb38c322",
   "metadata": {},
   "outputs": [],
   "source": [
    "test"
   ]
  },
  {
   "cell_type": "code",
   "execution_count": null,
   "id": "acd9a105",
   "metadata": {},
   "outputs": [],
   "source": [
    "test_prob_df['predicted'] = predicted_test\n",
    "test_prob_df.head()"
   ]
  },
  {
   "cell_type": "code",
   "execution_count": null,
   "id": "b399ecec",
   "metadata": {},
   "outputs": [],
   "source": [
    "test_prob_df.set_index(\"index\", inplace = True)"
   ]
  },
  {
   "cell_type": "code",
   "execution_count": null,
   "id": "4f6ab43f",
   "metadata": {},
   "outputs": [],
   "source": [
    "test_prob_df"
   ]
  },
  {
   "cell_type": "code",
   "execution_count": null,
   "id": "63725a3a",
   "metadata": {},
   "outputs": [],
   "source": [
    "csv_df = test_prob_df[[ 'Churn', 'predicted']]\n",
    "#csv_df = pd.concat([csv_df, user_id], axis=1)"
   ]
  },
  {
   "cell_type": "code",
   "execution_count": null,
   "id": "439f5b19",
   "metadata": {},
   "outputs": [],
   "source": [
    "csv_df"
   ]
  },
  {
   "cell_type": "code",
   "execution_count": null,
   "id": "b2bbe800",
   "metadata": {},
   "outputs": [],
   "source": [
    "csv_df = pd.concat([user_id, csv_df], axis=1)"
   ]
  },
  {
   "cell_type": "code",
   "execution_count": null,
   "id": "04429a3a",
   "metadata": {},
   "outputs": [],
   "source": [
    "csv_df"
   ]
  },
  {
   "cell_type": "code",
   "execution_count": null,
   "id": "e2a0eb6c",
   "metadata": {},
   "outputs": [],
   "source": [
    "csv_df.to_csv('predictions.csv')"
   ]
  },
  {
   "cell_type": "markdown",
   "id": "9aa3b0a5",
   "metadata": {},
   "source": [
    "# Conclusion:"
   ]
  },
  {
   "cell_type": "markdown",
   "id": "e9789f99",
   "metadata": {},
   "source": [
    "In conclusion I found some important features to look at moving forward as well as made a good start on creating a model that can accurately predict customer churn. In the future I would like to experiment a little more with my feature selection and find a combination that can further increase my accuracy."
   ]
  },
  {
   "cell_type": "markdown",
   "id": "9335f110",
   "metadata": {},
   "source": [
    "# Business Reccomendation : "
   ]
  },
  {
   "cell_type": "markdown",
   "id": "923582d5",
   "metadata": {},
   "source": [
    "Since monthly charges is the most related feature to customer churn I would reccomend lowering our monthly charges as our best action to reducing customer churn."
   ]
  },
  {
   "cell_type": "code",
   "execution_count": null,
   "id": "5f70be53",
   "metadata": {},
   "outputs": [],
   "source": []
  }
 ],
 "metadata": {
  "kernelspec": {
   "display_name": "Python 3 (ipykernel)",
   "language": "python",
   "name": "python3"
  },
  "language_info": {
   "codemirror_mode": {
    "name": "ipython",
    "version": 3
   },
   "file_extension": ".py",
   "mimetype": "text/x-python",
   "name": "python",
   "nbconvert_exporter": "python",
   "pygments_lexer": "ipython3",
   "version": "3.9.12"
  }
 },
 "nbformat": 4,
 "nbformat_minor": 5
}
