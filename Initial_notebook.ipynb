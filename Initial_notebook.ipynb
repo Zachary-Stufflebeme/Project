{
 "cells": [
  {
   "cell_type": "code",
   "execution_count": 1,
   "id": "88ddc295",
   "metadata": {},
   "outputs": [],
   "source": [
    "import pandas as pd\n",
    "import numpy as np\n",
    "from myProjectAquire import get_telco_data\n",
    "from myProjectPrepare import prep_telco, split_telco\n",
    "import warnings\n",
    "warnings.filterwarnings('ignore')\n",
    "from sklearn.tree import DecisionTreeClassifier,plot_tree,export_text\n",
    "from sklearn.metrics import confusion_matrix, classification_report, accuracy_score\n",
    "from sklearn.ensemble import RandomForestClassifier\n",
    "from sklearn.metrics import classification_report, confusion_matrix, ConfusionMatrixDisplay\n",
    "import matplotlib.pyplot as plt\n",
    "from sklearn.neighbors import KNeighborsClassifier\n",
    "from sklearn.linear_model import LogisticRegression\n",
    "import seaborn as sns\n",
    "from sklearn.preprocessing import MinMaxScaler"
   ]
  },
  {
   "cell_type": "code",
   "execution_count": 2,
   "id": "6ac46644",
   "metadata": {},
   "outputs": [],
   "source": [
    "#Important Key\n",
    "#Internet Service Type ID:\n",
    "# 1 - DSL\n",
    "# 2 - Fiber Optic\n",
    "# 3 - None\n",
    "\n",
    "\n",
    "\n",
    "\n",
    "df = get_telco_data()\n",
    "newdf = prep_telco(df)\n",
    "newdf = newdf.drop(columns = 'Unnamed: 0')\n",
    "train, validate, test = split_telco(newdf)\n"
   ]
  },
  {
   "cell_type": "code",
   "execution_count": 3,
   "id": "54969aad",
   "metadata": {
    "scrolled": true
   },
   "outputs": [
    {
     "data": {
      "text/html": [
       "<div>\n",
       "<style scoped>\n",
       "    .dataframe tbody tr th:only-of-type {\n",
       "        vertical-align: middle;\n",
       "    }\n",
       "\n",
       "    .dataframe tbody tr th {\n",
       "        vertical-align: top;\n",
       "    }\n",
       "\n",
       "    .dataframe thead th {\n",
       "        text-align: right;\n",
       "    }\n",
       "</style>\n",
       "<table border=\"1\" class=\"dataframe\">\n",
       "  <thead>\n",
       "    <tr style=\"text-align: right;\">\n",
       "      <th></th>\n",
       "      <th>internet_service_type_id</th>\n",
       "      <th>contract_type_id</th>\n",
       "      <th>senior_citizen</th>\n",
       "      <th>tenure</th>\n",
       "      <th>payment_type_id</th>\n",
       "      <th>monthly_charges</th>\n",
       "      <th>total_charges</th>\n",
       "      <th>is_female</th>\n",
       "      <th>has_partner</th>\n",
       "      <th>has_dependents</th>\n",
       "      <th>has_phone_service</th>\n",
       "      <th>uses_paperless_billing</th>\n",
       "      <th>did_churn</th>\n",
       "      <th>has_mult_lines</th>\n",
       "      <th>has_online_security</th>\n",
       "      <th>has_online_backup</th>\n",
       "      <th>has_device_protection</th>\n",
       "      <th>has_tech_support</th>\n",
       "      <th>can_stream_tv</th>\n",
       "      <th>can_stream_movie</th>\n",
       "    </tr>\n",
       "  </thead>\n",
       "  <tbody>\n",
       "  </tbody>\n",
       "</table>\n",
       "</div>"
      ],
      "text/plain": [
       "Empty DataFrame\n",
       "Columns: [internet_service_type_id, contract_type_id, senior_citizen, tenure, payment_type_id, monthly_charges, total_charges, is_female, has_partner, has_dependents, has_phone_service, uses_paperless_billing, did_churn, has_mult_lines, has_online_security, has_online_backup, has_device_protection, has_tech_support, can_stream_tv, can_stream_movie]\n",
       "Index: []"
      ]
     },
     "execution_count": 3,
     "metadata": {},
     "output_type": "execute_result"
    }
   ],
   "source": [
    "newdf[newdf.isna().any(axis=1)]"
   ]
  },
  {
   "cell_type": "code",
   "execution_count": 4,
   "id": "4bc9cdd7",
   "metadata": {},
   "outputs": [],
   "source": [
    "x_train = train.drop(columns = 'did_churn')\n",
    "y_train = train.did_churn\n",
    "x_validate = validate.drop(columns = 'did_churn')\n",
    "y_validate = validate.did_churn\n",
    "x_test = test.drop(columns = 'did_churn')\n",
    "y_test = test.did_churn"
   ]
  },
  {
   "cell_type": "code",
   "execution_count": 5,
   "id": "0589040d",
   "metadata": {},
   "outputs": [],
   "source": [
    "baseline = (y_train == 0).mean()"
   ]
  },
  {
   "cell_type": "code",
   "execution_count": 6,
   "id": "6ab253b0",
   "metadata": {},
   "outputs": [
    {
     "name": "stdout",
     "output_type": "stream",
     "text": [
      "our baseline accuracy for not churning is: 0.7346745562130178\n"
     ]
    }
   ],
   "source": [
    "print('our baseline accuracy for not churning is:', baseline)"
   ]
  },
  {
   "cell_type": "markdown",
   "id": "96bbd072",
   "metadata": {},
   "source": [
    "nciwucndsjlac"
   ]
  },
  {
   "cell_type": "code",
   "execution_count": 7,
   "id": "1d6653ef",
   "metadata": {},
   "outputs": [
    {
     "data": {
      "text/html": [
       "<div>\n",
       "<style scoped>\n",
       "    .dataframe tbody tr th:only-of-type {\n",
       "        vertical-align: middle;\n",
       "    }\n",
       "\n",
       "    .dataframe tbody tr th {\n",
       "        vertical-align: top;\n",
       "    }\n",
       "\n",
       "    .dataframe thead th {\n",
       "        text-align: right;\n",
       "    }\n",
       "</style>\n",
       "<table border=\"1\" class=\"dataframe\">\n",
       "  <thead>\n",
       "    <tr style=\"text-align: right;\">\n",
       "      <th></th>\n",
       "      <th>internet_service_type_id</th>\n",
       "      <th>contract_type_id</th>\n",
       "      <th>senior_citizen</th>\n",
       "      <th>tenure</th>\n",
       "      <th>payment_type_id</th>\n",
       "      <th>monthly_charges</th>\n",
       "      <th>total_charges</th>\n",
       "      <th>is_female</th>\n",
       "      <th>has_partner</th>\n",
       "      <th>has_dependents</th>\n",
       "      <th>has_phone_service</th>\n",
       "      <th>uses_paperless_billing</th>\n",
       "      <th>has_mult_lines</th>\n",
       "      <th>has_online_security</th>\n",
       "      <th>has_online_backup</th>\n",
       "      <th>has_device_protection</th>\n",
       "      <th>has_tech_support</th>\n",
       "      <th>can_stream_tv</th>\n",
       "      <th>can_stream_movie</th>\n",
       "    </tr>\n",
       "  </thead>\n",
       "  <tbody>\n",
       "    <tr>\n",
       "      <th>3160</th>\n",
       "      <td>2</td>\n",
       "      <td>2</td>\n",
       "      <td>0</td>\n",
       "      <td>51</td>\n",
       "      <td>2</td>\n",
       "      <td>0.801263</td>\n",
       "      <td>0.575724</td>\n",
       "      <td>1</td>\n",
       "      <td>1</td>\n",
       "      <td>1</td>\n",
       "      <td>1</td>\n",
       "      <td>1</td>\n",
       "      <td>1.0</td>\n",
       "      <td>1.0</td>\n",
       "      <td>0.0</td>\n",
       "      <td>0.0</td>\n",
       "      <td>1.0</td>\n",
       "      <td>1.0</td>\n",
       "      <td>0.0</td>\n",
       "    </tr>\n",
       "    <tr>\n",
       "      <th>1577</th>\n",
       "      <td>1</td>\n",
       "      <td>3</td>\n",
       "      <td>0</td>\n",
       "      <td>65</td>\n",
       "      <td>3</td>\n",
       "      <td>0.597895</td>\n",
       "      <td>0.505043</td>\n",
       "      <td>1</td>\n",
       "      <td>1</td>\n",
       "      <td>0</td>\n",
       "      <td>1</td>\n",
       "      <td>0</td>\n",
       "      <td>0.0</td>\n",
       "      <td>1.0</td>\n",
       "      <td>1.0</td>\n",
       "      <td>1.0</td>\n",
       "      <td>0.0</td>\n",
       "      <td>0.0</td>\n",
       "      <td>1.0</td>\n",
       "    </tr>\n",
       "    <tr>\n",
       "      <th>6823</th>\n",
       "      <td>2</td>\n",
       "      <td>1</td>\n",
       "      <td>0</td>\n",
       "      <td>18</td>\n",
       "      <td>1</td>\n",
       "      <td>0.808842</td>\n",
       "      <td>0.200431</td>\n",
       "      <td>1</td>\n",
       "      <td>0</td>\n",
       "      <td>0</td>\n",
       "      <td>1</td>\n",
       "      <td>1</td>\n",
       "      <td>0.0</td>\n",
       "      <td>1.0</td>\n",
       "      <td>0.0</td>\n",
       "      <td>0.0</td>\n",
       "      <td>0.0</td>\n",
       "      <td>1.0</td>\n",
       "      <td>1.0</td>\n",
       "    </tr>\n",
       "    <tr>\n",
       "      <th>3615</th>\n",
       "      <td>2</td>\n",
       "      <td>1</td>\n",
       "      <td>0</td>\n",
       "      <td>25</td>\n",
       "      <td>1</td>\n",
       "      <td>0.888421</td>\n",
       "      <td>0.309282</td>\n",
       "      <td>0</td>\n",
       "      <td>0</td>\n",
       "      <td>0</td>\n",
       "      <td>1</td>\n",
       "      <td>1</td>\n",
       "      <td>0.0</td>\n",
       "      <td>1.0</td>\n",
       "      <td>0.0</td>\n",
       "      <td>1.0</td>\n",
       "      <td>1.0</td>\n",
       "      <td>1.0</td>\n",
       "      <td>1.0</td>\n",
       "    </tr>\n",
       "    <tr>\n",
       "      <th>882</th>\n",
       "      <td>2</td>\n",
       "      <td>1</td>\n",
       "      <td>1</td>\n",
       "      <td>4</td>\n",
       "      <td>1</td>\n",
       "      <td>0.748211</td>\n",
       "      <td>0.042885</td>\n",
       "      <td>1</td>\n",
       "      <td>0</td>\n",
       "      <td>0</td>\n",
       "      <td>1</td>\n",
       "      <td>1</td>\n",
       "      <td>1.0</td>\n",
       "      <td>0.0</td>\n",
       "      <td>0.0</td>\n",
       "      <td>1.0</td>\n",
       "      <td>0.0</td>\n",
       "      <td>0.0</td>\n",
       "      <td>1.0</td>\n",
       "    </tr>\n",
       "    <tr>\n",
       "      <th>...</th>\n",
       "      <td>...</td>\n",
       "      <td>...</td>\n",
       "      <td>...</td>\n",
       "      <td>...</td>\n",
       "      <td>...</td>\n",
       "      <td>...</td>\n",
       "      <td>...</td>\n",
       "      <td>...</td>\n",
       "      <td>...</td>\n",
       "      <td>...</td>\n",
       "      <td>...</td>\n",
       "      <td>...</td>\n",
       "      <td>...</td>\n",
       "      <td>...</td>\n",
       "      <td>...</td>\n",
       "      <td>...</td>\n",
       "      <td>...</td>\n",
       "      <td>...</td>\n",
       "      <td>...</td>\n",
       "    </tr>\n",
       "    <tr>\n",
       "      <th>1097</th>\n",
       "      <td>1</td>\n",
       "      <td>1</td>\n",
       "      <td>0</td>\n",
       "      <td>2</td>\n",
       "      <td>1</td>\n",
       "      <td>0.643368</td>\n",
       "      <td>0.018515</td>\n",
       "      <td>1</td>\n",
       "      <td>0</td>\n",
       "      <td>0</td>\n",
       "      <td>1</td>\n",
       "      <td>0</td>\n",
       "      <td>0.0</td>\n",
       "      <td>0.0</td>\n",
       "      <td>0.0</td>\n",
       "      <td>1.0</td>\n",
       "      <td>1.0</td>\n",
       "      <td>1.0</td>\n",
       "      <td>1.0</td>\n",
       "    </tr>\n",
       "    <tr>\n",
       "      <th>6441</th>\n",
       "      <td>1</td>\n",
       "      <td>1</td>\n",
       "      <td>0</td>\n",
       "      <td>1</td>\n",
       "      <td>2</td>\n",
       "      <td>0.384842</td>\n",
       "      <td>0.005262</td>\n",
       "      <td>0</td>\n",
       "      <td>0</td>\n",
       "      <td>0</td>\n",
       "      <td>1</td>\n",
       "      <td>1</td>\n",
       "      <td>0.0</td>\n",
       "      <td>0.0</td>\n",
       "      <td>0.0</td>\n",
       "      <td>0.0</td>\n",
       "      <td>0.0</td>\n",
       "      <td>0.0</td>\n",
       "      <td>0.0</td>\n",
       "    </tr>\n",
       "    <tr>\n",
       "      <th>5985</th>\n",
       "      <td>3</td>\n",
       "      <td>3</td>\n",
       "      <td>0</td>\n",
       "      <td>67</td>\n",
       "      <td>3</td>\n",
       "      <td>0.215579</td>\n",
       "      <td>0.206148</td>\n",
       "      <td>1</td>\n",
       "      <td>0</td>\n",
       "      <td>0</td>\n",
       "      <td>1</td>\n",
       "      <td>1</td>\n",
       "      <td>1.0</td>\n",
       "      <td>0.0</td>\n",
       "      <td>0.0</td>\n",
       "      <td>0.0</td>\n",
       "      <td>0.0</td>\n",
       "      <td>0.0</td>\n",
       "      <td>0.0</td>\n",
       "    </tr>\n",
       "    <tr>\n",
       "      <th>2452</th>\n",
       "      <td>1</td>\n",
       "      <td>3</td>\n",
       "      <td>0</td>\n",
       "      <td>72</td>\n",
       "      <td>4</td>\n",
       "      <td>0.324211</td>\n",
       "      <td>0.318142</td>\n",
       "      <td>0</td>\n",
       "      <td>1</td>\n",
       "      <td>1</td>\n",
       "      <td>0</td>\n",
       "      <td>0</td>\n",
       "      <td>0.0</td>\n",
       "      <td>1.0</td>\n",
       "      <td>1.0</td>\n",
       "      <td>1.0</td>\n",
       "      <td>0.0</td>\n",
       "      <td>0.0</td>\n",
       "      <td>0.0</td>\n",
       "    </tr>\n",
       "    <tr>\n",
       "      <th>983</th>\n",
       "      <td>2</td>\n",
       "      <td>1</td>\n",
       "      <td>0</td>\n",
       "      <td>11</td>\n",
       "      <td>1</td>\n",
       "      <td>0.627789</td>\n",
       "      <td>0.094965</td>\n",
       "      <td>0</td>\n",
       "      <td>0</td>\n",
       "      <td>0</td>\n",
       "      <td>1</td>\n",
       "      <td>1</td>\n",
       "      <td>0.0</td>\n",
       "      <td>0.0</td>\n",
       "      <td>1.0</td>\n",
       "      <td>0.0</td>\n",
       "      <td>0.0</td>\n",
       "      <td>0.0</td>\n",
       "      <td>0.0</td>\n",
       "    </tr>\n",
       "  </tbody>\n",
       "</table>\n",
       "<p>1409 rows × 19 columns</p>\n",
       "</div>"
      ],
      "text/plain": [
       "      internet_service_type_id  contract_type_id  senior_citizen  tenure  \\\n",
       "3160                         2                 2               0      51   \n",
       "1577                         1                 3               0      65   \n",
       "6823                         2                 1               0      18   \n",
       "3615                         2                 1               0      25   \n",
       "882                          2                 1               1       4   \n",
       "...                        ...               ...             ...     ...   \n",
       "1097                         1                 1               0       2   \n",
       "6441                         1                 1               0       1   \n",
       "5985                         3                 3               0      67   \n",
       "2452                         1                 3               0      72   \n",
       "983                          2                 1               0      11   \n",
       "\n",
       "      payment_type_id  monthly_charges  total_charges  is_female  has_partner  \\\n",
       "3160                2         0.801263       0.575724          1            1   \n",
       "1577                3         0.597895       0.505043          1            1   \n",
       "6823                1         0.808842       0.200431          1            0   \n",
       "3615                1         0.888421       0.309282          0            0   \n",
       "882                 1         0.748211       0.042885          1            0   \n",
       "...               ...              ...            ...        ...          ...   \n",
       "1097                1         0.643368       0.018515          1            0   \n",
       "6441                2         0.384842       0.005262          0            0   \n",
       "5985                3         0.215579       0.206148          1            0   \n",
       "2452                4         0.324211       0.318142          0            1   \n",
       "983                 1         0.627789       0.094965          0            0   \n",
       "\n",
       "      has_dependents  has_phone_service  uses_paperless_billing  \\\n",
       "3160               1                  1                       1   \n",
       "1577               0                  1                       0   \n",
       "6823               0                  1                       1   \n",
       "3615               0                  1                       1   \n",
       "882                0                  1                       1   \n",
       "...              ...                ...                     ...   \n",
       "1097               0                  1                       0   \n",
       "6441               0                  1                       1   \n",
       "5985               0                  1                       1   \n",
       "2452               1                  0                       0   \n",
       "983                0                  1                       1   \n",
       "\n",
       "      has_mult_lines  has_online_security  has_online_backup  \\\n",
       "3160             1.0                  1.0                0.0   \n",
       "1577             0.0                  1.0                1.0   \n",
       "6823             0.0                  1.0                0.0   \n",
       "3615             0.0                  1.0                0.0   \n",
       "882              1.0                  0.0                0.0   \n",
       "...              ...                  ...                ...   \n",
       "1097             0.0                  0.0                0.0   \n",
       "6441             0.0                  0.0                0.0   \n",
       "5985             1.0                  0.0                0.0   \n",
       "2452             0.0                  1.0                1.0   \n",
       "983              0.0                  0.0                1.0   \n",
       "\n",
       "      has_device_protection  has_tech_support  can_stream_tv  can_stream_movie  \n",
       "3160                    0.0               1.0            1.0               0.0  \n",
       "1577                    1.0               0.0            0.0               1.0  \n",
       "6823                    0.0               0.0            1.0               1.0  \n",
       "3615                    1.0               1.0            1.0               1.0  \n",
       "882                     1.0               0.0            0.0               1.0  \n",
       "...                     ...               ...            ...               ...  \n",
       "1097                    1.0               1.0            1.0               1.0  \n",
       "6441                    0.0               0.0            0.0               0.0  \n",
       "5985                    0.0               0.0            0.0               0.0  \n",
       "2452                    1.0               0.0            0.0               0.0  \n",
       "983                     0.0               0.0            0.0               0.0  \n",
       "\n",
       "[1409 rows x 19 columns]"
      ]
     },
     "execution_count": 7,
     "metadata": {},
     "output_type": "execute_result"
    }
   ],
   "source": [
    "x_test"
   ]
  },
  {
   "cell_type": "code",
   "execution_count": 8,
   "id": "f48a49dc",
   "metadata": {},
   "outputs": [],
   "source": [
    "#                                    FINDING BEST DECISION TREE"
   ]
  },
  {
   "cell_type": "code",
   "execution_count": 9,
   "id": "1168e8f6",
   "metadata": {},
   "outputs": [],
   "source": [
    "#                                        USING TRAIN DATA"
   ]
  },
  {
   "cell_type": "code",
   "execution_count": null,
   "id": "31122c5c",
   "metadata": {},
   "outputs": [],
   "source": []
  },
  {
   "cell_type": "code",
   "execution_count": 10,
   "id": "fe378749",
   "metadata": {},
   "outputs": [
    {
     "name": "stdout",
     "output_type": "stream",
     "text": [
      "1 0.7346745562130178 \n",
      "\n",
      "2 0.7498224852071006 \n",
      "\n",
      "3 0.7843786982248521 \n",
      "\n",
      "4 0.7924260355029585 \n",
      "\n",
      "5 0.7992899408284023 \n",
      "\n",
      "6 0.8125443786982248 \n",
      "\n",
      "7 0.8260355029585799 \n",
      "\n",
      "8 0.84 \n",
      "\n",
      "9 0.8629585798816568 \n",
      "\n",
      "10 0.8811834319526627 \n",
      "\n",
      "11 0.8979881656804733 \n",
      "\n",
      "12 0.9226035502958579 \n",
      "\n",
      "13 0.9410650887573965 \n",
      "\n",
      "14 0.9576331360946746 \n",
      "\n",
      "15 0.9718343195266272 \n",
      "\n",
      "16 0.9824852071005917 \n",
      "\n",
      "17 0.9912426035502958 \n",
      "\n",
      "18 0.9957396449704142 \n",
      "\n",
      "19 0.9978698224852071 \n",
      "\n"
     ]
    }
   ],
   "source": [
    "# Here I am creating Decision tree models depths of every second number between one and twenty and than finding \n",
    "#                  their score in order to see which will be the best to use.\n",
    "for i in range (1 , 20, 1):\n",
    "    DTC = DecisionTreeClassifier(max_depth = i)\n",
    "    DTC.fit(x_train,y_train)\n",
    "    y_preds = pd.DataFrame({\n",
    "     'y_act': y_train,\n",
    "     'baseline': 0,\n",
    "     'model_x' : DTC.predict(x_train)})\n",
    "    print(i,DTC.score(x_train,y_train), '\\n')\n",
    "    "
   ]
  },
  {
   "cell_type": "code",
   "execution_count": 11,
   "id": "cb62103c",
   "metadata": {},
   "outputs": [
    {
     "name": "stdout",
     "output_type": "stream",
     "text": [
      "1 0.7345635202271115 \n",
      "\n",
      "2 0.7579843860894251 \n",
      "\n",
      "3 0.7877927608232789 \n",
      "\n",
      "4 0.7977288857345636 \n",
      "\n",
      "5 0.7877927608232789 \n",
      "\n",
      "6 0.7913413768630234 \n",
      "\n",
      "7 0.7856635911994322 \n",
      "\n",
      "8 0.7799858055358411 \n",
      "\n",
      "9 0.7750177430801988 \n",
      "\n",
      "10 0.759403832505323 \n",
      "\n",
      "11 0.7537260468417317 \n",
      "\n",
      "12 0.7530163236337828 \n",
      "\n",
      "13 0.7508871540099361 \n",
      "\n",
      "14 0.7501774308019872 \n",
      "\n",
      "15 0.7473385379701917 \n",
      "\n",
      "16 0.7366926898509581 \n",
      "\n",
      "17 0.7402413058907026 \n",
      "\n",
      "18 0.7374024130589071 \n",
      "\n",
      "19 0.7374024130589071 \n",
      "\n"
     ]
    }
   ],
   "source": [
    "#                                       Using Validate Data\n",
    "for i in range (1 , 20, 1):\n",
    "    DTC = DecisionTreeClassifier(max_depth = i)\n",
    "    DTC.fit(x_train,y_train)\n",
    "    y_preds = pd.DataFrame({\n",
    "     'y_act': y_validate,\n",
    "     'baseline': 0,\n",
    "     'model_x' : DTC.predict(x_validate)})\n",
    "    print(i,DTC.score(x_validate,y_validate), '\\n')"
   ]
  },
  {
   "cell_type": "code",
   "execution_count": null,
   "id": "e2548ebf",
   "metadata": {},
   "outputs": [],
   "source": []
  },
  {
   "cell_type": "code",
   "execution_count": 12,
   "id": "86c6958a",
   "metadata": {},
   "outputs": [
    {
     "name": "stdout",
     "output_type": "stream",
     "text": [
      "1 0.7345635202271115 \n",
      "\n",
      "2 0.751596877217885 \n",
      "\n",
      "3 0.7927608232789212 \n",
      "\n",
      "4 0.7842441447835344 \n",
      "\n",
      "5 0.7842441447835344 \n",
      "\n",
      "6 0.7849538679914834 \n",
      "\n",
      "7 0.7842441447835344 \n",
      "\n",
      "8 0.7750177430801988 \n",
      "\n",
      "9 0.7650816181689141 \n",
      "\n",
      "10 0.7622427253371186 \n",
      "\n"
     ]
    }
   ],
   "source": [
    "#                                          Using Test Data\n",
    "for i in range (1 , 11, 1):\n",
    "    DTC = DecisionTreeClassifier(max_depth = i)\n",
    "    DTC.fit(x_train,y_train)\n",
    "    y_preds = pd.DataFrame({\n",
    "     'y_act': y_test,\n",
    "     'baseline': 0,\n",
    "     'model_x' : DTC.predict(x_test)})\n",
    "    print(i,DTC.score(x_test,y_test), '\\n')"
   ]
  },
  {
   "cell_type": "code",
   "execution_count": 13,
   "id": "76a0ba19",
   "metadata": {},
   "outputs": [],
   "source": [
    "# Random Forest Models"
   ]
  },
  {
   "cell_type": "raw",
   "id": "fd497985",
   "metadata": {},
   "source": []
  },
  {
   "cell_type": "code",
   "execution_count": 46,
   "id": "db97c657",
   "metadata": {},
   "outputs": [
    {
     "data": {
      "text/html": [
       "<div>\n",
       "<style scoped>\n",
       "    .dataframe tbody tr th:only-of-type {\n",
       "        vertical-align: middle;\n",
       "    }\n",
       "\n",
       "    .dataframe tbody tr th {\n",
       "        vertical-align: top;\n",
       "    }\n",
       "\n",
       "    .dataframe thead th {\n",
       "        text-align: right;\n",
       "    }\n",
       "</style>\n",
       "<table border=\"1\" class=\"dataframe\">\n",
       "  <thead>\n",
       "    <tr style=\"text-align: right;\">\n",
       "      <th></th>\n",
       "      <th>min_leaf</th>\n",
       "      <th>max_depth</th>\n",
       "      <th>train_accuracy</th>\n",
       "      <th>validate_accuracy</th>\n",
       "      <th>difference</th>\n",
       "    </tr>\n",
       "  </thead>\n",
       "  <tbody>\n",
       "    <tr>\n",
       "      <th>0</th>\n",
       "      <td>20</td>\n",
       "      <td>2</td>\n",
       "      <td>0.750059</td>\n",
       "      <td>0.748758</td>\n",
       "      <td>0.001301</td>\n",
       "    </tr>\n",
       "    <tr>\n",
       "      <th>1</th>\n",
       "      <td>18</td>\n",
       "      <td>4</td>\n",
       "      <td>0.794320</td>\n",
       "      <td>0.799858</td>\n",
       "      <td>-0.005539</td>\n",
       "    </tr>\n",
       "    <tr>\n",
       "      <th>2</th>\n",
       "      <td>16</td>\n",
       "      <td>6</td>\n",
       "      <td>0.817988</td>\n",
       "      <td>0.802697</td>\n",
       "      <td>0.015291</td>\n",
       "    </tr>\n",
       "    <tr>\n",
       "      <th>3</th>\n",
       "      <td>14</td>\n",
       "      <td>8</td>\n",
       "      <td>0.849231</td>\n",
       "      <td>0.808375</td>\n",
       "      <td>0.040856</td>\n",
       "    </tr>\n",
       "    <tr>\n",
       "      <th>4</th>\n",
       "      <td>12</td>\n",
       "      <td>10</td>\n",
       "      <td>0.896331</td>\n",
       "      <td>0.803407</td>\n",
       "      <td>0.092925</td>\n",
       "    </tr>\n",
       "    <tr>\n",
       "      <th>5</th>\n",
       "      <td>10</td>\n",
       "      <td>12</td>\n",
       "      <td>0.957396</td>\n",
       "      <td>0.799148</td>\n",
       "      <td>0.158248</td>\n",
       "    </tr>\n",
       "    <tr>\n",
       "      <th>6</th>\n",
       "      <td>8</td>\n",
       "      <td>14</td>\n",
       "      <td>0.989349</td>\n",
       "      <td>0.794180</td>\n",
       "      <td>0.195169</td>\n",
       "    </tr>\n",
       "    <tr>\n",
       "      <th>7</th>\n",
       "      <td>6</td>\n",
       "      <td>16</td>\n",
       "      <td>0.996923</td>\n",
       "      <td>0.792051</td>\n",
       "      <td>0.204872</td>\n",
       "    </tr>\n",
       "    <tr>\n",
       "      <th>8</th>\n",
       "      <td>4</td>\n",
       "      <td>18</td>\n",
       "      <td>0.998107</td>\n",
       "      <td>0.794180</td>\n",
       "      <td>0.203926</td>\n",
       "    </tr>\n",
       "    <tr>\n",
       "      <th>9</th>\n",
       "      <td>2</td>\n",
       "      <td>20</td>\n",
       "      <td>0.998107</td>\n",
       "      <td>0.784954</td>\n",
       "      <td>0.213153</td>\n",
       "    </tr>\n",
       "  </tbody>\n",
       "</table>\n",
       "</div>"
      ],
      "text/plain": [
       "   min_leaf  max_depth  train_accuracy  validate_accuracy  difference\n",
       "0        20          2        0.750059           0.748758    0.001301\n",
       "1        18          4        0.794320           0.799858   -0.005539\n",
       "2        16          6        0.817988           0.802697    0.015291\n",
       "3        14          8        0.849231           0.808375    0.040856\n",
       "4        12         10        0.896331           0.803407    0.092925\n",
       "5        10         12        0.957396           0.799148    0.158248\n",
       "6         8         14        0.989349           0.794180    0.195169\n",
       "7         6         16        0.996923           0.792051    0.204872\n",
       "8         4         18        0.998107           0.794180    0.203926\n",
       "9         2         20        0.998107           0.784954    0.213153"
      ]
     },
     "execution_count": 46,
     "metadata": {},
     "output_type": "execute_result"
    }
   ],
   "source": [
    "metrics = []\n",
    "l = 20\n",
    "for i in range(2, 21,2):\n",
    "    rf = RandomForestClassifier(max_depth=i, random_state=123)\n",
    "\n",
    "    # Fit the model (on train and only train)\n",
    "    rf = rf.fit(x_train, y_train)\n",
    "\n",
    "    # Use the model\n",
    "    # We'll evaluate the model's performance on train, first then check validate\n",
    "    train_acc = rf.score(x_train, y_train)\n",
    "    \n",
    "    val_acc = rf.score(x_validate, y_validate)\n",
    "\n",
    "    output = {\n",
    "        'min_leaf': l,\n",
    "        \"max_depth\": i,\n",
    "        \"train_accuracy\": train_acc,\n",
    "        \"validate_accuracy\": val_acc\n",
    "    }\n",
    "    \n",
    "    metrics.append(output)\n",
    "    l = l - 2\n",
    "df = pd.DataFrame(metrics)\n",
    "df[\"difference\"] = df.train_accuracy - df.validate_accuracy\n",
    "df"
   ]
  },
  {
   "cell_type": "code",
   "execution_count": 15,
   "id": "fd1fb555",
   "metadata": {},
   "outputs": [
    {
     "data": {
      "image/png": "[encoded data removed]",
      "text/plain": [
       "<Figure size 1152x648 with 1 Axes>"
      ]
     },
     "metadata": {
      "needs_background": "light"
     },
     "output_type": "display_data"
    }
   ],
   "source": [
    "df.set_index('max_depth').plot(figsize = (16,9))\n",
    "plt.ylabel('Accuracy')\n",
    "plt.xticks(np.arange(0,21,1))\n",
    "plt.grid()"
   ]
  },
  {
   "cell_type": "code",
   "execution_count": 16,
   "id": "972474af",
   "metadata": {},
   "outputs": [
    {
     "name": "stdout",
     "output_type": "stream",
     "text": [
      "min sample =  2 max depth = 20 0.7500591715976331\n",
      "min sample =  4 max depth = 18 0.7950295857988166\n",
      "min sample =  6 max depth = 16 0.8139644970414202\n",
      "min sample =  8 max depth = 14 0.8236686390532545\n",
      "min sample =  10 max depth = 12 0.8300591715976331\n",
      "min sample =  12 max depth = 10 0.840473372781065\n",
      "min sample =  14 max depth = 8 0.8459171597633136\n",
      "min sample =  16 max depth = 6 0.8631952662721893\n",
      "min sample =  18 max depth = 4 0.882603550295858\n",
      "min sample =  20 max depth = 2 0.9431952662721893\n"
     ]
    }
   ],
   "source": [
    "#                                           Train models:\n",
    "#   Here I am making a few random forest models with sample increasing from 2 and depth decreasing from 20 on \n",
    "#                                      my train data.\n",
    "\n",
    "l = 20\n",
    "for i in range(2,21,2):\n",
    "    \n",
    "    rf = RandomForestClassifier(min_samples_leaf = l ,max_depth = i , random_state = 123)\n",
    "    rf.fit(x_train,y_train)\n",
    "    y_pred3 = rf.predict(x_train)\n",
    "    print('min sample = ', i, 'max depth =', l, rf.score(x_train, y_train))\n",
    "    l = l - 2\n",
    "    \n"
   ]
  },
  {
   "cell_type": "code",
   "execution_count": 17,
   "id": "1c80c688",
   "metadata": {},
   "outputs": [
    {
     "name": "stdout",
     "output_type": "stream",
     "text": [
      "min sample =  2 max depth = 2 0.7500591715976331\n",
      "min sample =  4 max depth = 4 0.7943195266272189\n",
      "min sample =  6 max depth = 6 0.8146745562130178\n",
      "min sample =  8 max depth = 8 0.8300591715976331\n",
      "min sample =  10 max depth = 10 0.8331360946745562\n",
      "min sample =  12 max depth = 12 0.8331360946745562\n",
      "min sample =  14 max depth = 14 0.8276923076923077\n",
      "min sample =  16 max depth = 16 0.8262721893491124\n",
      "min sample =  18 max depth = 18 0.8222485207100592\n",
      "min sample =  20 max depth = 20 0.8210650887573965\n"
     ]
    }
   ],
   "source": [
    "#Here I am making a few more random forest models with sample and depth increasing by 2 up to 20.\n",
    "l = 2\n",
    "for i in range(2,21,2):\n",
    "    \n",
    "    rf = RandomForestClassifier(min_samples_leaf = l ,max_depth = i , random_state = 123)\n",
    "    rf.fit(x_train,y_train)\n",
    "    y_pred3 = rf.predict(x_train)\n",
    "    print('min sample = ', i, 'max depth =', l, rf.score(x_train, y_train))\n",
    "    l = l + 2\n",
    "    "
   ]
  },
  {
   "cell_type": "code",
   "execution_count": 18,
   "id": "9fc36cdd",
   "metadata": {},
   "outputs": [],
   "source": [
    "# From our train data it seems the best paramaters to use in our random forest would be a min sample of 20 \n",
    "#and a max depth of 2 "
   ]
  },
  {
   "cell_type": "code",
   "execution_count": 19,
   "id": "35882575",
   "metadata": {},
   "outputs": [
    {
     "name": "stdout",
     "output_type": "stream",
     "text": [
      "min sample =  2 max depth = 20 0.7487579843860894\n",
      "min sample =  4 max depth = 18 0.7963094393186657\n",
      "min sample =  6 max depth = 16 0.8005677785663591\n",
      "min sample =  8 max depth = 14 0.8026969481902059\n",
      "min sample =  10 max depth = 12 0.7998580553584103\n",
      "min sample =  12 max depth = 10 0.801277501774308\n",
      "min sample =  14 max depth = 8 0.8069552874378992\n",
      "min sample =  16 max depth = 6 0.8069552874378992\n",
      "min sample =  18 max depth = 4 0.7963094393186657\n",
      "min sample =  20 max depth = 2 0.794180269694819\n"
     ]
    }
   ],
   "source": [
    "#                                          Validate Models:\n",
    "#        Here I am making a few random forest models with sample increasing from 2 and depth decreasing from 20 on \n",
    "#                                          my validate data.\n",
    "l = 20\n",
    "for i in range(2,21,2):\n",
    "    \n",
    "    rf = RandomForestClassifier(min_samples_leaf = l ,max_depth = i , random_state = 123)\n",
    "    rf.fit(x_train,y_train)\n",
    "    print('min sample = ', i, 'max depth =', l, rf.score(x_validate, y_validate))\n",
    "    l = l - 2"
   ]
  },
  {
   "cell_type": "code",
   "execution_count": 20,
   "id": "e023270a",
   "metadata": {},
   "outputs": [
    {
     "name": "stdout",
     "output_type": "stream",
     "text": [
      "min sample =  2 max depth = 2 0.7487579843860894\n",
      "min sample =  4 max depth = 4 0.7984386089425124\n",
      "min sample =  6 max depth = 6 0.8034066713981547\n",
      "min sample =  8 max depth = 8 0.801277501774308\n",
      "min sample =  10 max depth = 10 0.801277501774308\n",
      "min sample =  12 max depth = 12 0.8005677785663591\n",
      "min sample =  14 max depth = 14 0.8005677785663591\n",
      "min sample =  16 max depth = 16 0.7991483321504613\n",
      "min sample =  18 max depth = 18 0.8005677785663591\n",
      "min sample =  20 max depth = 20 0.8026969481902059\n"
     ]
    }
   ],
   "source": [
    "#        Here I am making a few more random forest models with sample and depth increasing by 2 up to 20 on\n",
    "#                                        my validate data.\n",
    "l = 2\n",
    "for i in range(2,21,2):\n",
    "    \n",
    "    rf = RandomForestClassifier(min_samples_leaf = i ,max_depth = l , random_state = 123)\n",
    "    rf.fit(x_train,y_train)\n",
    "    y_pred3 = rf.predict(x_train)\n",
    "    print('min sample = ', i, 'max depth =', l, rf.score(x_validate, y_validate))\n",
    "    l = l + 2"
   ]
  },
  {
   "cell_type": "code",
   "execution_count": null,
   "id": "12f412a2",
   "metadata": {},
   "outputs": [],
   "source": []
  },
  {
   "cell_type": "code",
   "execution_count": 21,
   "id": "3dcb5089",
   "metadata": {},
   "outputs": [
    {
     "ename": "ValueError",
     "evalue": "Classification metrics can't handle a mix of binary and multilabel-indicator targets",
     "output_type": "error",
     "traceback": [
      "\u001b[0;31m---------------------------------------------------------------------------\u001b[0m",
      "\u001b[0;31mValueError\u001b[0m                                Traceback (most recent call last)",
      "Input \u001b[0;32mIn [21]\u001b[0m, in \u001b[0;36m<cell line: 2>\u001b[0;34m()\u001b[0m\n\u001b[1;32m      1\u001b[0m acc \u001b[38;5;241m=\u001b[39m DTC\u001b[38;5;241m.\u001b[39mscore(x_train, y_train)\n\u001b[0;32m----> 2\u001b[0m \u001b[43maccuracy_score\u001b[49m\u001b[43m(\u001b[49m\u001b[43my_preds\u001b[49m\u001b[38;5;241;43m.\u001b[39;49m\u001b[43my_act\u001b[49m\u001b[43m,\u001b[49m\u001b[43m \u001b[49m\u001b[43my_preds\u001b[49m\u001b[43m)\u001b[49m\n",
      "File \u001b[0;32m/usr/local/anaconda3/lib/python3.9/site-packages/sklearn/metrics/_classification.py:211\u001b[0m, in \u001b[0;36maccuracy_score\u001b[0;34m(y_true, y_pred, normalize, sample_weight)\u001b[0m\n\u001b[1;32m    145\u001b[0m \u001b[38;5;124;03m\"\"\"Accuracy classification score.\u001b[39;00m\n\u001b[1;32m    146\u001b[0m \n\u001b[1;32m    147\u001b[0m \u001b[38;5;124;03mIn multilabel classification, this function computes subset accuracy:\u001b[39;00m\n\u001b[0;32m   (...)\u001b[0m\n\u001b[1;32m    207\u001b[0m \u001b[38;5;124;03m0.5\u001b[39;00m\n\u001b[1;32m    208\u001b[0m \u001b[38;5;124;03m\"\"\"\u001b[39;00m\n\u001b[1;32m    210\u001b[0m \u001b[38;5;66;03m# Compute accuracy for each possible representation\u001b[39;00m\n\u001b[0;32m--> 211\u001b[0m y_type, y_true, y_pred \u001b[38;5;241m=\u001b[39m \u001b[43m_check_targets\u001b[49m\u001b[43m(\u001b[49m\u001b[43my_true\u001b[49m\u001b[43m,\u001b[49m\u001b[43m \u001b[49m\u001b[43my_pred\u001b[49m\u001b[43m)\u001b[49m\n\u001b[1;32m    212\u001b[0m check_consistent_length(y_true, y_pred, sample_weight)\n\u001b[1;32m    213\u001b[0m \u001b[38;5;28;01mif\u001b[39;00m y_type\u001b[38;5;241m.\u001b[39mstartswith(\u001b[38;5;124m\"\u001b[39m\u001b[38;5;124mmultilabel\u001b[39m\u001b[38;5;124m\"\u001b[39m):\n",
      "File \u001b[0;32m/usr/local/anaconda3/lib/python3.9/site-packages/sklearn/metrics/_classification.py:93\u001b[0m, in \u001b[0;36m_check_targets\u001b[0;34m(y_true, y_pred)\u001b[0m\n\u001b[1;32m     90\u001b[0m     y_type \u001b[38;5;241m=\u001b[39m {\u001b[38;5;124m\"\u001b[39m\u001b[38;5;124mmulticlass\u001b[39m\u001b[38;5;124m\"\u001b[39m}\n\u001b[1;32m     92\u001b[0m \u001b[38;5;28;01mif\u001b[39;00m \u001b[38;5;28mlen\u001b[39m(y_type) \u001b[38;5;241m>\u001b[39m \u001b[38;5;241m1\u001b[39m:\n\u001b[0;32m---> 93\u001b[0m     \u001b[38;5;28;01mraise\u001b[39;00m \u001b[38;5;167;01mValueError\u001b[39;00m(\n\u001b[1;32m     94\u001b[0m         \u001b[38;5;124m\"\u001b[39m\u001b[38;5;124mClassification metrics can\u001b[39m\u001b[38;5;124m'\u001b[39m\u001b[38;5;124mt handle a mix of \u001b[39m\u001b[38;5;132;01m{0}\u001b[39;00m\u001b[38;5;124m and \u001b[39m\u001b[38;5;132;01m{1}\u001b[39;00m\u001b[38;5;124m targets\u001b[39m\u001b[38;5;124m\"\u001b[39m\u001b[38;5;241m.\u001b[39mformat(\n\u001b[1;32m     95\u001b[0m             type_true, type_pred\n\u001b[1;32m     96\u001b[0m         )\n\u001b[1;32m     97\u001b[0m     )\n\u001b[1;32m     99\u001b[0m \u001b[38;5;66;03m# We can't have more than one value on y_type => The set is no more needed\u001b[39;00m\n\u001b[1;32m    100\u001b[0m y_type \u001b[38;5;241m=\u001b[39m y_type\u001b[38;5;241m.\u001b[39mpop()\n",
      "\u001b[0;31mValueError\u001b[0m: Classification metrics can't handle a mix of binary and multilabel-indicator targets"
     ]
    }
   ],
   "source": [
    "acc = DTC.score(x_train, y_train)\n",
    "accuracy_score(y_preds.y_act, y_preds)"
   ]
  },
  {
   "cell_type": "code",
   "execution_count": 22,
   "id": "e9eb4f17",
   "metadata": {},
   "outputs": [
    {
     "ename": "AttributeError",
     "evalue": "'DataFrame' object has no attribute 'model_1'",
     "output_type": "error",
     "traceback": [
      "\u001b[0;31m---------------------------------------------------------------------------\u001b[0m",
      "\u001b[0;31mAttributeError\u001b[0m                            Traceback (most recent call last)",
      "Input \u001b[0;32mIn [22]\u001b[0m, in \u001b[0;36m<cell line: 1>\u001b[0;34m()\u001b[0m\n\u001b[0;32m----> 1\u001b[0m pd\u001b[38;5;241m.\u001b[39mDataFrame(classification_report(y_preds\u001b[38;5;241m.\u001b[39my_act, \u001b[43my_preds\u001b[49m\u001b[38;5;241;43m.\u001b[39;49m\u001b[43mmodel_1\u001b[49m, output_dict\u001b[38;5;241m=\u001b[39m\u001b[38;5;28;01mTrue\u001b[39;00m))\n",
      "File \u001b[0;32m/usr/local/anaconda3/lib/python3.9/site-packages/pandas/core/generic.py:5575\u001b[0m, in \u001b[0;36mNDFrame.__getattr__\u001b[0;34m(self, name)\u001b[0m\n\u001b[1;32m   5568\u001b[0m \u001b[38;5;28;01mif\u001b[39;00m (\n\u001b[1;32m   5569\u001b[0m     name \u001b[38;5;129;01mnot\u001b[39;00m \u001b[38;5;129;01min\u001b[39;00m \u001b[38;5;28mself\u001b[39m\u001b[38;5;241m.\u001b[39m_internal_names_set\n\u001b[1;32m   5570\u001b[0m     \u001b[38;5;129;01mand\u001b[39;00m name \u001b[38;5;129;01mnot\u001b[39;00m \u001b[38;5;129;01min\u001b[39;00m \u001b[38;5;28mself\u001b[39m\u001b[38;5;241m.\u001b[39m_metadata\n\u001b[1;32m   5571\u001b[0m     \u001b[38;5;129;01mand\u001b[39;00m name \u001b[38;5;129;01mnot\u001b[39;00m \u001b[38;5;129;01min\u001b[39;00m \u001b[38;5;28mself\u001b[39m\u001b[38;5;241m.\u001b[39m_accessors\n\u001b[1;32m   5572\u001b[0m     \u001b[38;5;129;01mand\u001b[39;00m \u001b[38;5;28mself\u001b[39m\u001b[38;5;241m.\u001b[39m_info_axis\u001b[38;5;241m.\u001b[39m_can_hold_identifiers_and_holds_name(name)\n\u001b[1;32m   5573\u001b[0m ):\n\u001b[1;32m   5574\u001b[0m     \u001b[38;5;28;01mreturn\u001b[39;00m \u001b[38;5;28mself\u001b[39m[name]\n\u001b[0;32m-> 5575\u001b[0m \u001b[38;5;28;01mreturn\u001b[39;00m \u001b[38;5;28;43mobject\u001b[39;49m\u001b[38;5;241;43m.\u001b[39;49m\u001b[38;5;21;43m__getattribute__\u001b[39;49m\u001b[43m(\u001b[49m\u001b[38;5;28;43mself\u001b[39;49m\u001b[43m,\u001b[49m\u001b[43m \u001b[49m\u001b[43mname\u001b[49m\u001b[43m)\u001b[49m\n",
      "\u001b[0;31mAttributeError\u001b[0m: 'DataFrame' object has no attribute 'model_1'"
     ]
    }
   ],
   "source": [
    "pd.DataFrame(classification_report(y_preds.y_act, y_preds.model_1, output_dict=True))"
   ]
  },
  {
   "cell_type": "code",
   "execution_count": null,
   "id": "8b5a31c2",
   "metadata": {},
   "outputs": [],
   "source": [
    "conf = confusion_matrix(y_preds.y_act, y_preds.model_1)"
   ]
  },
  {
   "cell_type": "code",
   "execution_count": null,
   "id": "ba91b380",
   "metadata": {},
   "outputs": [],
   "source": [
    "rubric_df = pd.DataFrame({\n",
    "    'pred_no_churn': ['True Negative', 'False Negative'],\n",
    "    'pred_churn':['False Positive','True Positive']\n",
    "    }, index=['actual_no_churn', 'actual_churn'])"
   ]
  },
  {
   "cell_type": "code",
   "execution_count": null,
   "id": "ebccea96",
   "metadata": {},
   "outputs": [],
   "source": [
    "rubric_df"
   ]
  },
  {
   "cell_type": "code",
   "execution_count": null,
   "id": "5384ca95",
   "metadata": {},
   "outputs": [],
   "source": [
    "rubric_df + ': ' + conf.astype(str)"
   ]
  },
  {
   "cell_type": "code",
   "execution_count": null,
   "id": "c140c766",
   "metadata": {},
   "outputs": [],
   "source": [
    "#                             LOGREG\n",
    "logreg = LogisticRegression()\n",
    "logreg2 = LogisticRegression(C = .3)"
   ]
  },
  {
   "cell_type": "code",
   "execution_count": 23,
   "id": "2160140b",
   "metadata": {},
   "outputs": [
    {
     "name": "stdout",
     "output_type": "stream",
     "text": [
      "0.801277501774308\n",
      "0.8055358410220014\n",
      "0.8090844570617459\n",
      "0.8090844570617459\n",
      "0.8097941802696949\n",
      "0.8069552874378992\n",
      "0.8076650106458482\n",
      "0.8069552874378992\n",
      "0.8062455642299503\n",
      "0.8076650106458482\n"
     ]
    }
   ],
   "source": [
    "for i in range(1,11,1):\n",
    "    i = i * .1\n",
    "    logreg = LogisticRegression(C = i , random_state = 123)\n",
    "    logreg.fit(x_train,y_train)\n",
    "    print(logreg.score(x_validate, y_validate))"
   ]
  },
  {
   "cell_type": "code",
   "execution_count": null,
   "id": "55d14240",
   "metadata": {},
   "outputs": [],
   "source": []
  },
  {
   "cell_type": "code",
   "execution_count": null,
   "id": "064c48ba",
   "metadata": {},
   "outputs": [],
   "source": []
  },
  {
   "cell_type": "code",
   "execution_count": null,
   "id": "9d70c2fb",
   "metadata": {},
   "outputs": [],
   "source": []
  },
  {
   "cell_type": "code",
   "execution_count": 24,
   "id": "b5518fe4",
   "metadata": {},
   "outputs": [
    {
     "ename": "NameError",
     "evalue": "name 'logreg2' is not defined",
     "output_type": "error",
     "traceback": [
      "\u001b[0;31m---------------------------------------------------------------------------\u001b[0m",
      "\u001b[0;31mNameError\u001b[0m                                 Traceback (most recent call last)",
      "Input \u001b[0;32mIn [24]\u001b[0m, in \u001b[0;36m<cell line: 2>\u001b[0;34m()\u001b[0m\n\u001b[1;32m      1\u001b[0m logreg\u001b[38;5;241m.\u001b[39mfit(x_train,y_train)\n\u001b[0;32m----> 2\u001b[0m \u001b[43mlogreg2\u001b[49m\u001b[38;5;241m.\u001b[39mfit(x_train,y_train)\n",
      "\u001b[0;31mNameError\u001b[0m: name 'logreg2' is not defined"
     ]
    }
   ],
   "source": [
    "logreg.fit(x_train,y_train)\n",
    "logreg2.fit(x_train,y_train)"
   ]
  },
  {
   "cell_type": "code",
   "execution_count": null,
   "id": "713eed5d",
   "metadata": {},
   "outputs": [],
   "source": [
    "y_pred = logreg.predict(x_train)\n",
    "y_pred2 = logreg.predict(x_train)"
   ]
  },
  {
   "cell_type": "code",
   "execution_count": 25,
   "id": "b6d6af02",
   "metadata": {},
   "outputs": [
    {
     "data": {
      "text/plain": [
       "array([0, 1])"
      ]
     },
     "execution_count": 25,
     "metadata": {},
     "output_type": "execute_result"
    }
   ],
   "source": [
    "logreg.classes_"
   ]
  },
  {
   "cell_type": "code",
   "execution_count": 26,
   "id": "b989e88e",
   "metadata": {},
   "outputs": [],
   "source": [
    "y_pred_proba = logreg.predict_proba(x_train)\n",
    "y_pred_proba = pd.DataFrame(y_pred_proba, columns = ['did_not_churn', 'did_churn'])\n",
    "y_pred_proba2 = logreg.predict_proba(x_train)\n",
    "y_pred_proba2 = pd.DataFrame(y_pred_proba, columns = ['did_not_churn', 'did_churn'])"
   ]
  },
  {
   "cell_type": "code",
   "execution_count": 27,
   "id": "9d9cd623",
   "metadata": {},
   "outputs": [
    {
     "data": {
      "text/html": [
       "<div>\n",
       "<style scoped>\n",
       "    .dataframe tbody tr th:only-of-type {\n",
       "        vertical-align: middle;\n",
       "    }\n",
       "\n",
       "    .dataframe tbody tr th {\n",
       "        vertical-align: top;\n",
       "    }\n",
       "\n",
       "    .dataframe thead th {\n",
       "        text-align: right;\n",
       "    }\n",
       "</style>\n",
       "<table border=\"1\" class=\"dataframe\">\n",
       "  <thead>\n",
       "    <tr style=\"text-align: right;\">\n",
       "      <th></th>\n",
       "      <th>did_not_churn</th>\n",
       "      <th>did_churn</th>\n",
       "    </tr>\n",
       "  </thead>\n",
       "  <tbody>\n",
       "    <tr>\n",
       "      <th>0</th>\n",
       "      <td>0.818048</td>\n",
       "      <td>0.181952</td>\n",
       "    </tr>\n",
       "    <tr>\n",
       "      <th>1</th>\n",
       "      <td>0.968097</td>\n",
       "      <td>0.031903</td>\n",
       "    </tr>\n",
       "    <tr>\n",
       "      <th>2</th>\n",
       "      <td>0.556792</td>\n",
       "      <td>0.443208</td>\n",
       "    </tr>\n",
       "    <tr>\n",
       "      <th>3</th>\n",
       "      <td>0.979349</td>\n",
       "      <td>0.020651</td>\n",
       "    </tr>\n",
       "    <tr>\n",
       "      <th>4</th>\n",
       "      <td>0.874425</td>\n",
       "      <td>0.125575</td>\n",
       "    </tr>\n",
       "    <tr>\n",
       "      <th>...</th>\n",
       "      <td>...</td>\n",
       "      <td>...</td>\n",
       "    </tr>\n",
       "    <tr>\n",
       "      <th>4220</th>\n",
       "      <td>0.575638</td>\n",
       "      <td>0.424362</td>\n",
       "    </tr>\n",
       "    <tr>\n",
       "      <th>4221</th>\n",
       "      <td>0.805455</td>\n",
       "      <td>0.194545</td>\n",
       "    </tr>\n",
       "    <tr>\n",
       "      <th>4222</th>\n",
       "      <td>0.343541</td>\n",
       "      <td>0.656459</td>\n",
       "    </tr>\n",
       "    <tr>\n",
       "      <th>4223</th>\n",
       "      <td>0.961777</td>\n",
       "      <td>0.038223</td>\n",
       "    </tr>\n",
       "    <tr>\n",
       "      <th>4224</th>\n",
       "      <td>0.864591</td>\n",
       "      <td>0.135409</td>\n",
       "    </tr>\n",
       "  </tbody>\n",
       "</table>\n",
       "<p>4225 rows × 2 columns</p>\n",
       "</div>"
      ],
      "text/plain": [
       "      did_not_churn  did_churn\n",
       "0          0.818048   0.181952\n",
       "1          0.968097   0.031903\n",
       "2          0.556792   0.443208\n",
       "3          0.979349   0.020651\n",
       "4          0.874425   0.125575\n",
       "...             ...        ...\n",
       "4220       0.575638   0.424362\n",
       "4221       0.805455   0.194545\n",
       "4222       0.343541   0.656459\n",
       "4223       0.961777   0.038223\n",
       "4224       0.864591   0.135409\n",
       "\n",
       "[4225 rows x 2 columns]"
      ]
     },
     "execution_count": 27,
     "metadata": {},
     "output_type": "execute_result"
    }
   ],
   "source": [
    "y_pred_proba"
   ]
  },
  {
   "cell_type": "code",
   "execution_count": 28,
   "id": "cd87a8a8",
   "metadata": {},
   "outputs": [
    {
     "ename": "NameError",
     "evalue": "name 'y_pred' is not defined",
     "output_type": "error",
     "traceback": [
      "\u001b[0;31m---------------------------------------------------------------------------\u001b[0m",
      "\u001b[0;31mNameError\u001b[0m                                 Traceback (most recent call last)",
      "Input \u001b[0;32mIn [28]\u001b[0m, in \u001b[0;36m<cell line: 1>\u001b[0;34m()\u001b[0m\n\u001b[0;32m----> 1\u001b[0m \u001b[38;5;28mprint\u001b[39m(classification_report(y_train, \u001b[43my_pred\u001b[49m))\n",
      "\u001b[0;31mNameError\u001b[0m: name 'y_pred' is not defined"
     ]
    }
   ],
   "source": [
    "print(classification_report(y_train, y_pred))"
   ]
  },
  {
   "cell_type": "code",
   "execution_count": 36,
   "id": "c63e795d",
   "metadata": {},
   "outputs": [
    {
     "data": {
      "text/plain": [
       "monthly_charges           3.495259\n",
       "total_charges             1.480456\n",
       "has_phone_service         1.098233\n",
       "contract_type_id          0.650259\n",
       "has_online_security       0.472524\n",
       "uses_paperless_billing    0.422970\n",
       "has_tech_support          0.390465\n",
       "has_online_backup         0.340688\n",
       "senior_citizen            0.226730\n",
       "has_device_protection     0.154165\n",
       "payment_type_id           0.148699\n",
       "has_mult_lines            0.126007\n",
       "has_dependents            0.106913\n",
       "can_stream_movie          0.093708\n",
       "Name: coeff, dtype: float64"
      ]
     },
     "execution_count": 36,
     "metadata": {},
     "output_type": "execute_result"
    }
   ],
   "source": [
    "#log_coeffs = pd.DataFrame(logreg.coef_[0], index=x_train.columns,\n",
    "                         #columns=['coeff'])\n",
    "#log_coeffs2 = pd.DataFrame(logreg2.coef_[0], index = x_train.columns, columns = ['coeff'])\n",
    "\n",
    "\n",
    "abs_vals = log_coeffs['coeff'].abs() \n",
    "abs_vals.nlargest(14)"
   ]
  },
  {
   "cell_type": "code",
   "execution_count": 38,
   "id": "4c0cb931",
   "metadata": {},
   "outputs": [
    {
     "data": {
      "text/plain": [
       "monthly_charges             3.495259\n",
       "total_charges               1.480456\n",
       "uses_paperless_billing      0.422970\n",
       "senior_citizen              0.226730\n",
       "has_mult_lines              0.126007\n",
       "internet_service_type_id    0.070556\n",
       "can_stream_tv              -0.011161\n",
       "is_female                  -0.027493\n",
       "tenure                     -0.046162\n",
       "has_partner                -0.069243\n",
       "Name: coeff, dtype: float64"
      ]
     },
     "execution_count": 38,
     "metadata": {},
     "output_type": "execute_result"
    }
   ],
   "source": [
    "odds = np.exp(log_coeffs)\n",
    "#odds\n",
    "log_coeffs.coeff.nlargest(10)"
   ]
  },
  {
   "cell_type": "code",
   "execution_count": 31,
   "id": "8d80e059",
   "metadata": {},
   "outputs": [
    {
     "ename": "NameError",
     "evalue": "name 'log_coeffs2' is not defined",
     "output_type": "error",
     "traceback": [
      "\u001b[0;31m---------------------------------------------------------------------------\u001b[0m",
      "\u001b[0;31mNameError\u001b[0m                                 Traceback (most recent call last)",
      "Input \u001b[0;32mIn [31]\u001b[0m, in \u001b[0;36m<cell line: 1>\u001b[0;34m()\u001b[0m\n\u001b[0;32m----> 1\u001b[0m \u001b[43mlog_coeffs2\u001b[49m\n",
      "\u001b[0;31mNameError\u001b[0m: name 'log_coeffs2' is not defined"
     ]
    }
   ],
   "source": [
    "log_coeffs2"
   ]
  },
  {
   "cell_type": "code",
   "execution_count": null,
   "id": "c7f7a0a6",
   "metadata": {},
   "outputs": [],
   "source": []
  },
  {
   "cell_type": "code",
   "execution_count": 39,
   "id": "d634b019",
   "metadata": {},
   "outputs": [
    {
     "name": "stdout",
     "output_type": "stream",
     "text": [
      "0.797396449704142\n"
     ]
    }
   ],
   "source": [
    "imp_feats = ['monthly_charges','total_charges','has_phone_service','contract_type_id','has_online_security','uses_paperless_billing','has_tech_support','has_online_backup','senior_citizen','has_device_protection','has_mult_lines','has_dependents']\n",
    "imp_feats2 = ['monthly_charges','total_charges','internet_service_type_id','senior_citizen','has_mult_lines','uses_paperless_billing']\n",
    "logit1 = LogisticRegression(random_state=1100)\n",
    "\n",
    "logit1.fit(x_train,y_train)\n",
    "\n",
    "y_pred = logit1.predict(x_train)\n",
    "\n",
    "print((logit1.score(x_train, y_train)))\n"
   ]
  },
  {
   "cell_type": "code",
   "execution_count": 40,
   "id": "946bc3ae",
   "metadata": {},
   "outputs": [
    {
     "name": "stdout",
     "output_type": "stream",
     "text": [
      "0.796923076923077\n"
     ]
    }
   ],
   "source": [
    "logit2 = LogisticRegression(random_state=1100)\n",
    "logit2.fit(x_train[imp_feats], y_train)\n",
    "y_pred = logit2.predict(x_train[imp_feats])\n",
    "print((logit2.score(x_train[imp_feats], y_train)))"
   ]
  },
  {
   "cell_type": "code",
   "execution_count": 41,
   "id": "54b2614e",
   "metadata": {},
   "outputs": [
    {
     "name": "stdout",
     "output_type": "stream",
     "text": [
      "0.7853254437869822\n"
     ]
    }
   ],
   "source": [
    "logit3 = LogisticRegression(random_state=1100)\n",
    "logit3.fit(x_train[imp_feats2], y_train)\n",
    "y_pred = logit3.predict(x_train[imp_feats2])\n",
    "print((logit3.score(x_train[imp_feats2], y_train)))"
   ]
  },
  {
   "cell_type": "code",
   "execution_count": 42,
   "id": "e82f261e",
   "metadata": {},
   "outputs": [
    {
     "name": "stdout",
     "output_type": "stream",
     "text": [
      "0.8076650106458482\n"
     ]
    }
   ],
   "source": [
    "#                                   Validate feature significance\n",
    "\n",
    "logit4 = LogisticRegression(random_state=1100)\n",
    "logit4.fit(x_train,y_train)\n",
    "y_pred = logit4.predict(x_train)\n",
    "print((logit4.score(x_validate,y_validate)))"
   ]
  },
  {
   "cell_type": "code",
   "execution_count": 43,
   "id": "a2628c0c",
   "metadata": {},
   "outputs": [
    {
     "name": "stdout",
     "output_type": "stream",
     "text": [
      "0.7991483321504613\n"
     ]
    }
   ],
   "source": [
    "logit2 = LogisticRegression(random_state=1100)\n",
    "logit2.fit(x_train[imp_feats], y_train)\n",
    "y_pred = logit2.predict(x_train[imp_feats])\n",
    "print((logit2.score(x_validate[imp_feats], y_validate)))"
   ]
  },
  {
   "cell_type": "code",
   "execution_count": 44,
   "id": "bf73efcd",
   "metadata": {},
   "outputs": [
    {
     "name": "stdout",
     "output_type": "stream",
     "text": [
      "0.7849538679914834\n"
     ]
    }
   ],
   "source": [
    "logit3 = LogisticRegression(random_state=1100)\n",
    "logit3.fit(x_train[imp_feats2], y_train)\n",
    "y_pred = logit3.predict(x_train[imp_feats2])\n",
    "print((logit3.score(x_validate[imp_feats2], y_validate)))"
   ]
  },
  {
   "cell_type": "code",
   "execution_count": null,
   "id": "f725870b",
   "metadata": {},
   "outputs": [],
   "source": [
    "baseline_accuracy = round((train.did_churn == 0).mean(), 2)"
   ]
  },
  {
   "cell_type": "code",
   "execution_count": null,
   "id": "de60df73",
   "metadata": {},
   "outputs": [],
   "source": [
    "baseline_accuracy"
   ]
  },
  {
   "cell_type": "code",
   "execution_count": null,
   "id": "12a6ba02",
   "metadata": {},
   "outputs": [],
   "source": [
    "melted = newdf.melt(id_vars=['did_churn'])\n",
    "melted"
   ]
  },
  {
   "cell_type": "code",
   "execution_count": null,
   "id": "da63c82c",
   "metadata": {},
   "outputs": [],
   "source": [
    "for col in df.columns:\n",
    "        if df[col].dtype != 'object':\n",
    "            plt.hist(df[col])\n",
    "            plt.title(f'Distribution of {col}')\n",
    "            plt.show()"
   ]
  },
  {
   "cell_type": "code",
   "execution_count": null,
   "id": "90fea1bc",
   "metadata": {},
   "outputs": [],
   "source": [
    "scaler = MinMaxScaler()\n",
    "scaled = scaler.fit_transform(newdf)"
   ]
  },
  {
   "cell_type": "code",
   "execution_count": null,
   "id": "211252df",
   "metadata": {},
   "outputs": [],
   "source": [
    "newdf[['monthly_charges', 'total_charges']] = scaler.fit_transform(newdf[['monthly_charges', 'total_charges']])"
   ]
  },
  {
   "cell_type": "code",
   "execution_count": null,
   "id": "a8849b31",
   "metadata": {},
   "outputs": [],
   "source": [
    "newdf"
   ]
  },
  {
   "cell_type": "code",
   "execution_count": null,
   "id": "7a17c6b0",
   "metadata": {},
   "outputs": [],
   "source": [
    "    newdf[newdf['total_charges'].str.len() == 0] = 0\n",
    "    #newdf['total_charges'] = newdf['total_charges'].astype(float)\n",
    "    #newdf.total_charges = newdf.total_charges.str.strip()"
   ]
  },
  {
   "cell_type": "code",
   "execution_count": null,
   "id": "18111f63",
   "metadata": {},
   "outputs": [],
   "source": [
    "newdnewdf['total_charges']\n"
   ]
  },
  {
   "cell_type": "code",
   "execution_count": null,
   "id": "a9a63cc8",
   "metadata": {},
   "outputs": [],
   "source": [
    "newdf.total_charges.value_counts()"
   ]
  },
  {
   "cell_type": "code",
   "execution_count": null,
   "id": "a0613afc",
   "metadata": {},
   "outputs": [],
   "source": [
    "newdf"
   ]
  },
  {
   "cell_type": "code",
   "execution_count": null,
   "id": "b934d920",
   "metadata": {},
   "outputs": [],
   "source": [
    "print(classification_report(y_validate, logreg.predict(x_validate)))"
   ]
  },
  {
   "cell_type": "code",
   "execution_count": null,
   "id": "5dc4e8a1",
   "metadata": {},
   "outputs": [],
   "source": [
    "print(classification_report(y_validate, logreg2.predict(x_validate)))"
   ]
  },
  {
   "cell_type": "code",
   "execution_count": null,
   "id": "7bee255f",
   "metadata": {},
   "outputs": [],
   "source": []
  },
  {
   "cell_type": "code",
   "execution_count": null,
   "id": "b47e3656",
   "metadata": {},
   "outputs": [],
   "source": []
  },
  {
   "cell_type": "code",
   "execution_count": null,
   "id": "90e404d4",
   "metadata": {},
   "outputs": [],
   "source": []
  },
  {
   "cell_type": "code",
   "execution_count": null,
   "id": "7b923194",
   "metadata": {},
   "outputs": [],
   "source": []
  },
  {
   "cell_type": "code",
   "execution_count": null,
   "id": "3a670d58",
   "metadata": {},
   "outputs": [],
   "source": []
  },
  {
   "cell_type": "code",
   "execution_count": null,
   "id": "957cae99",
   "metadata": {},
   "outputs": [],
   "source": []
  }
 ],
 "metadata": {
  "kernelspec": {
   "display_name": "Python 3 (ipykernel)",
   "language": "python",
   "name": "python3"
  },
  "language_info": {
   "codemirror_mode": {
    "name": "ipython",
    "version": 3
   },
   "file_extension": ".py",
   "mimetype": "text/x-python",
   "name": "python",
   "nbconvert_exporter": "python",
   "pygments_lexer": "ipython3",
   "version": "3.9.12"
  }
 },
 "nbformat": 4,
 "nbformat_minor": 5
}
